{
 "cells": [
  {
   "cell_type": "markdown",
   "metadata": {},
   "source": [
    "## Google Scholar Crawler\n",
    "*DISCLAIMER: after retrieving 490 URLs, Google BLOCKED the IP address\n",
    "\n",
    "*TODO: add selenium and add a manual step for opening a url and showing that we are NOT a robot"
   ]
  },
  {
   "cell_type": "code",
   "execution_count": 1,
   "metadata": {},
   "outputs": [],
   "source": [
    "keyword_raw = \"honeypot\""
   ]
  },
  {
   "cell_type": "code",
   "execution_count": 2,
   "metadata": {},
   "outputs": [],
   "source": [
    "import cfscrape\n",
    "from lxml import etree\n",
    "import pandas as pd\n",
    "import urllib\n",
    "import re\n",
    "from random import randint\n",
    "from time import sleep\n",
    "\n",
    "#Add selenium!!!! \n",
    "#change the user agent\n",
    "#make a small break when google ask for captcha\n",
    "\n",
    "header = {\n",
    "    'Accept': 'text/html,application/xhtml+xml,application/xml;q=0.9',\n",
    "    'Accept-Encoding': 'gzip, deflate, sdch',\n",
    "    'Accept-Language' : 'nl-NL,nl;q=0.8,en-US;q=0.6,en;q=0.4',\n",
    "    'Cache-Control' : 'max-age=0',\n",
    "    'Connection': 'keep-alive',\n",
    "    'User-Agent': 'Mozilla/5.0 (X11; Linux x86_64) AppleWebKit/537.36 (KHTML, like Gecko) Chrome/43.0.2357.81 Safari/537.36'\n",
    "    }"
   ]
  },
  {
   "cell_type": "code",
   "execution_count": 3,
   "metadata": {},
   "outputs": [
    {
     "name": "stdout",
     "output_type": "stream",
     "text": [
      "1 https://scholar.google.nl/scholar?start=0&q=%22honeypot%22&hl=nl&as_sdt=0,5\n",
      "sleeping...\n",
      "2 https://scholar.google.nl/scholar?start=10&q=%22honeypot%22&hl=nl&as_sdt=0,5\n",
      "sleeping...\n",
      "3 https://scholar.google.nl/scholar?start=20&q=%22honeypot%22&hl=nl&as_sdt=0,5\n",
      "sleeping...\n",
      "4 https://scholar.google.nl/scholar?start=30&q=%22honeypot%22&hl=nl&as_sdt=0,5\n",
      "sleeping...\n",
      "5 https://scholar.google.nl/scholar?start=40&q=%22honeypot%22&hl=nl&as_sdt=0,5\n",
      "sleeping...\n",
      "6 https://scholar.google.nl/scholar?start=50&q=%22honeypot%22&hl=nl&as_sdt=0,5\n",
      "sleeping...\n",
      "7 https://scholar.google.nl/scholar?start=60&q=%22honeypot%22&hl=nl&as_sdt=0,5\n",
      "sleeping...\n",
      "8 https://scholar.google.nl/scholar?start=70&q=%22honeypot%22&hl=nl&as_sdt=0,5\n",
      "sleeping...\n",
      "9 https://scholar.google.nl/scholar?start=80&q=%22honeypot%22&hl=nl&as_sdt=0,5\n",
      "sleeping...\n",
      "10 https://scholar.google.nl/scholar?start=90&q=%22honeypot%22&hl=nl&as_sdt=0,5\n",
      "sleeping...\n",
      "11 https://scholar.google.nl/scholar?start=100&q=%22honeypot%22&hl=nl&as_sdt=0,5\n",
      "sleeping...\n",
      "12 https://scholar.google.nl/scholar?start=110&q=%22honeypot%22&hl=nl&as_sdt=0,5\n",
      "sleeping...\n",
      "13 https://scholar.google.nl/scholar?start=120&q=%22honeypot%22&hl=nl&as_sdt=0,5\n",
      "sleeping...\n",
      "14 https://scholar.google.nl/scholar?start=130&q=%22honeypot%22&hl=nl&as_sdt=0,5\n",
      "sleeping...\n",
      "15 https://scholar.google.nl/scholar?start=140&q=%22honeypot%22&hl=nl&as_sdt=0,5\n",
      "sleeping...\n",
      "16 https://scholar.google.nl/scholar?start=150&q=%22honeypot%22&hl=nl&as_sdt=0,5\n",
      "sleeping...\n",
      "17 https://scholar.google.nl/scholar?start=160&q=%22honeypot%22&hl=nl&as_sdt=0,5\n",
      "sleeping...\n",
      "18 https://scholar.google.nl/scholar?start=170&q=%22honeypot%22&hl=nl&as_sdt=0,5\n",
      "sleeping...\n",
      "19 https://scholar.google.nl/scholar?start=180&q=%22honeypot%22&hl=nl&as_sdt=0,5\n",
      "sleeping...\n",
      "20 https://scholar.google.nl/scholar?start=190&q=%22honeypot%22&hl=nl&as_sdt=0,5\n",
      "sleeping...\n",
      "21 https://scholar.google.nl/scholar?start=200&q=%22honeypot%22&hl=nl&as_sdt=0,5\n",
      "sleeping...\n",
      "22 https://scholar.google.nl/scholar?start=210&q=%22honeypot%22&hl=nl&as_sdt=0,5\n",
      "sleeping...\n",
      "23 https://scholar.google.nl/scholar?start=220&q=%22honeypot%22&hl=nl&as_sdt=0,5\n",
      "sleeping...\n",
      "24 https://scholar.google.nl/scholar?start=230&q=%22honeypot%22&hl=nl&as_sdt=0,5\n",
      "sleeping...\n",
      "25 https://scholar.google.nl/scholar?start=240&q=%22honeypot%22&hl=nl&as_sdt=0,5\n",
      "sleeping...\n",
      "26 https://scholar.google.nl/scholar?start=250&q=%22honeypot%22&hl=nl&as_sdt=0,5\n",
      "sleeping...\n",
      "27 https://scholar.google.nl/scholar?start=260&q=%22honeypot%22&hl=nl&as_sdt=0,5\n",
      "sleeping...\n",
      "28 https://scholar.google.nl/scholar?start=270&q=%22honeypot%22&hl=nl&as_sdt=0,5\n",
      "sleeping...\n",
      "29 https://scholar.google.nl/scholar?start=280&q=%22honeypot%22&hl=nl&as_sdt=0,5\n",
      "sleeping...\n",
      "30 https://scholar.google.nl/scholar?start=290&q=%22honeypot%22&hl=nl&as_sdt=0,5\n",
      "sleeping...\n",
      "31 https://scholar.google.nl/scholar?start=300&q=%22honeypot%22&hl=nl&as_sdt=0,5\n",
      "sleeping...\n",
      "32 https://scholar.google.nl/scholar?start=310&q=%22honeypot%22&hl=nl&as_sdt=0,5\n",
      "sleeping...\n",
      "33 https://scholar.google.nl/scholar?start=320&q=%22honeypot%22&hl=nl&as_sdt=0,5\n",
      "sleeping...\n",
      "34 https://scholar.google.nl/scholar?start=330&q=%22honeypot%22&hl=nl&as_sdt=0,5\n",
      "sleeping...\n",
      "35 https://scholar.google.nl/scholar?start=340&q=%22honeypot%22&hl=nl&as_sdt=0,5\n",
      "sleeping...\n",
      "36 https://scholar.google.nl/scholar?start=350&q=%22honeypot%22&hl=nl&as_sdt=0,5\n",
      "sleeping...\n",
      "37 https://scholar.google.nl/scholar?start=360&q=%22honeypot%22&hl=nl&as_sdt=0,5\n",
      "sleeping...\n",
      "38 https://scholar.google.nl/scholar?start=370&q=%22honeypot%22&hl=nl&as_sdt=0,5\n",
      "sleeping...\n",
      "39 https://scholar.google.nl/scholar?start=380&q=%22honeypot%22&hl=nl&as_sdt=0,5\n",
      "sleeping...\n",
      "40 https://scholar.google.nl/scholar?start=390&q=%22honeypot%22&hl=nl&as_sdt=0,5\n",
      "sleeping...\n",
      "41 https://scholar.google.nl/scholar?start=400&q=%22honeypot%22&hl=nl&as_sdt=0,5\n",
      "sleeping...\n",
      "42 https://scholar.google.nl/scholar?start=410&q=%22honeypot%22&hl=nl&as_sdt=0,5\n",
      "sleeping...\n",
      "43 https://scholar.google.nl/scholar?start=420&q=%22honeypot%22&hl=nl&as_sdt=0,5\n",
      "The code stopped for some reason!! Possibly Google blocked us!\n",
      "\"\n",
      "Deze pagina wordt weergegeven wanneer Google verzoeken detecteert die afkomstig zijn van uw computernetwerk en die de  lijken te schenden. De blokkering verloopt kort nadat die verzoeken zijn gestopt. In de tussentijd kunt u onze services blijven gebruiken door de bovenstaande CAPTCHA op te lossen.Dit verkeer kan zijn verzonden door schadelijke software, een invoegtoepassing van de browser of een script dat automatische verzoeken verzendt. Als u uw netwerkverbinding deelt, vraagt u uw beheerder om hulp. Het is mogelijk dat een andere computer die hetzelfde IP-adres gebruikt, verantwoordelijk is voor de verzoeken. Soms kunt u worden gevraagd de CAPTCHA op te lossen als u geavanceerde termen gebruikt die vaak door robots worden gebruikt of als de verzoeken zeer snel worden verzonden.\n",
      "\n",
      "\"\n"
     ]
    }
   ],
   "source": [
    "page = 1 \n",
    "df = pd.DataFrame()\n",
    "    \n",
    "while True: \n",
    "    start_page = (page - 1) * 10\n",
    "    #################################################################################\n",
    "    keyword = urllib.parse.quote_plus(\"\\\"\"+keyword_raw+\"\\\"\")\n",
    "    url=\"https://scholar.google.nl/scholar?start=\"+str(start_page)+\"&q=\"+keyword+\"&hl=nl&as_sdt=0,5\"\n",
    "    print(page, url)\n",
    "    #################################################################################\n",
    "    scraper = cfscrape.create_scraper()\n",
    "    scraped_html=scraper.get(url,headers=header).content\n",
    "    # print(scraped_html.decode(\"utf-8\") )\n",
    "    html = etree.HTML(scraped_html)\n",
    "    #################################################################################    \n",
    "    elements = html.xpath(\"//div[@class='gs_ri']\")\n",
    "    #################################################################################\n",
    "    if len(elements) == 0:\n",
    "        print(\"The code stopped for some reason!! Possibly Google blocked us!\")\n",
    "        print(\"\\\"\"+(''.join(html.xpath(\"//div[@id='infoDiv']/text()\")))+\"\\\"\")\n",
    "        break\n",
    "    #################################################################################\n",
    "    for element in elements:\n",
    "        #################################################################################\n",
    "        if len(element.xpath(\"h3[@class='gs_rt']/a/text()\")) > 1:\n",
    "            title = (keyword_raw+\" \").join(element.xpath(\"h3[@class='gs_rt']/a/text()\"))\n",
    "        elif len(element.xpath(\"h3[@class='gs_rt']/a/text()\")) == 1:\n",
    "            title = element.xpath(\"h3[@class='gs_rt']/a/text()\")[0]\n",
    "        else:\n",
    "            title = \"\"\n",
    "        #################################################################################    \n",
    "        link  = ''.join(element.xpath(\"h3[@class='gs_rt']/a/@href\"))\n",
    "        #################################################################################    \n",
    "        abstract = ''.join(element.xpath(\"div[@class='gs_rs']/text()\")).replace('\\n','')\n",
    "        #################################################################################\n",
    "        reference = ''.join(element.xpath(\"div[@class='gs_a']/text()\"))\n",
    "        #################################################################################\n",
    "        try:\n",
    "            year = re.search(r\"\\d{4}\", reference)[0]\n",
    "        except:\n",
    "            year = \"\"\n",
    "        #################################################################################   \n",
    "        df = df.append({'year':year,'title':title,'abstract':abstract,'reference':reference,'link':link},ignore_index=True)\n",
    "    #################################################################################   \n",
    "    print(\"sleeping...\")\n",
    "    sleep(randint(6,18))\n",
    "    #################################################################################   \n",
    "    page = page + 1       "
   ]
  },
  {
   "cell_type": "markdown",
   "metadata": {},
   "source": [
    "## Exporting the output to a csv file"
   ]
  },
  {
   "cell_type": "code",
   "execution_count": 4,
   "metadata": {},
   "outputs": [],
   "source": [
    "df.to_csv('honeypot_googlescholar_query_honeypot_20190722.csv')"
   ]
  },
  {
   "cell_type": "markdown",
   "metadata": {},
   "source": [
    "## Further analysis"
   ]
  },
  {
   "cell_type": "code",
   "execution_count": 5,
   "metadata": {},
   "outputs": [],
   "source": [
    "pd.options.display.max_colwidth = 100\n",
    "from urllib.parse import urlparse"
   ]
  },
  {
   "cell_type": "code",
   "execution_count": 69,
   "metadata": {},
   "outputs": [
    {
     "data": {
      "text/html": [
       "<div>\n",
       "<style scoped>\n",
       "    .dataframe tbody tr th:only-of-type {\n",
       "        vertical-align: middle;\n",
       "    }\n",
       "\n",
       "    .dataframe tbody tr th {\n",
       "        vertical-align: top;\n",
       "    }\n",
       "\n",
       "    .dataframe thead th {\n",
       "        text-align: right;\n",
       "    }\n",
       "</style>\n",
       "<table border=\"1\" class=\"dataframe\">\n",
       "  <thead>\n",
       "    <tr style=\"text-align: right;\">\n",
       "      <th></th>\n",
       "      <th>abstract</th>\n",
       "      <th>link</th>\n",
       "      <th>reference</th>\n",
       "      <th>title</th>\n",
       "      <th>year</th>\n",
       "    </tr>\n",
       "  </thead>\n",
       "  <tbody>\n",
       "    <tr>\n",
       "      <th>0</th>\n",
       "      <td>A is a closely monitored network decoy serving several purposes: it can distract adversaries fro...</td>\n",
       "      <td>https://www.usenix.org/event/sec04/tech/full_papers/provos/provos_html</td>\n",
       "      <td>- USENIX Security Symposium, 2004 - usenix.org</td>\n",
       "      <td>A Virtual honeypot Framework.</td>\n",
       "      <td>2004</td>\n",
       "    </tr>\n",
       "    <tr>\n",
       "      <th>1</th>\n",
       "      <td>Spammers continually scan the Internet for open proxy relays: by using these open relays, they c...</td>\n",
       "      <td>https://ieeexplore.ieee.org/abstract/document/1264861/</td>\n",
       "      <td>N Krawetz - IEEE Security &amp; Privacy, 2004 - ieeexplore.ieee.org</td>\n",
       "      <td>Anti-honeypot technology</td>\n",
       "      <td>2004</td>\n",
       "    </tr>\n",
       "    <tr>\n",
       "      <th>2</th>\n",
       "      <td>Honeypots are closely monitored network decoys serving several purposes: they can distract adver...</td>\n",
       "      <td>https://www.researchgate.net/profile/Niels_Provos/publication/250395424_Honeyd_A_Virtual_Honeypo...</td>\n",
       "      <td>- 10th DFN-CERT Workshop, Hamburg, Germany, 2003 - researchgate.net</td>\n",
       "      <td>Honeyd-a virtual honeypot daemon</td>\n",
       "      <td>2003</td>\n",
       "    </tr>\n",
       "    <tr>\n",
       "      <th>3</th>\n",
       "      <td>The number of client-side attacks has grown significantly in the past few years, shifting focus ...</td>\n",
       "      <td>https://www.usenix.org/legacy/event/leet09/tech/full_papers/nazario/nazario.pdf</td>\n",
       "      <td>- LEET, 2009 - usenix.org</td>\n",
       "      <td>PhoneyC: A Virtual Client honeypot .</td>\n",
       "      <td>2009</td>\n",
       "    </tr>\n",
       "    <tr>\n",
       "      <th>4</th>\n",
       "      <td>Some attacks on honeypots are very frequent and repetitive. In addition, such repetitive attacks...</td>\n",
       "      <td>ftp://ftp.mirror.ac.za/www.honeynet.org/papers/individual/AusCERT_fullpaper_BIS.pdf</td>\n",
       "      <td>F Pouget,  - AusCERT Asia Pacific Information Technology …, 2004 - mirror.ac.za</td>\n",
       "      <td>-based forensics</td>\n",
       "      <td>2004</td>\n",
       "    </tr>\n",
       "  </tbody>\n",
       "</table>\n",
       "</div>"
      ],
      "text/plain": [
       "                                                                                              abstract  \\\n",
       "0  A is a closely monitored network decoy serving several purposes: it can distract adversaries fro...   \n",
       "1  Spammers continually scan the Internet for open proxy relays: by using these open relays, they c...   \n",
       "2  Honeypots are closely monitored network decoys serving several purposes: they can distract adver...   \n",
       "3  The number of client-side attacks has grown significantly in the past few years, shifting focus ...   \n",
       "4  Some attacks on honeypots are very frequent and repetitive. In addition, such repetitive attacks...   \n",
       "\n",
       "                                                                                                  link  \\\n",
       "0                               https://www.usenix.org/event/sec04/tech/full_papers/provos/provos_html   \n",
       "1                                               https://ieeexplore.ieee.org/abstract/document/1264861/   \n",
       "2  https://www.researchgate.net/profile/Niels_Provos/publication/250395424_Honeyd_A_Virtual_Honeypo...   \n",
       "3                      https://www.usenix.org/legacy/event/leet09/tech/full_papers/nazario/nazario.pdf   \n",
       "4                  ftp://ftp.mirror.ac.za/www.honeynet.org/papers/individual/AusCERT_fullpaper_BIS.pdf   \n",
       "\n",
       "                                                                         reference  \\\n",
       "0                                   - USENIX Security Symposium, 2004 - usenix.org   \n",
       "1                  N Krawetz - IEEE Security & Privacy, 2004 - ieeexplore.ieee.org   \n",
       "2              - 10th DFN-CERT Workshop, Hamburg, Germany, 2003 - researchgate.net   \n",
       "3                                                        - LEET, 2009 - usenix.org   \n",
       "4  F Pouget,  - AusCERT Asia Pacific Information Technology …, 2004 - mirror.ac.za   \n",
       "\n",
       "                                  title  year  \n",
       "0         A Virtual honeypot Framework.  2004  \n",
       "1              Anti-honeypot technology  2004  \n",
       "2      Honeyd-a virtual honeypot daemon  2003  \n",
       "3  PhoneyC: A Virtual Client honeypot .  2009  \n",
       "4                      -based forensics  2004  "
      ]
     },
     "execution_count": 69,
     "metadata": {},
     "output_type": "execute_result"
    }
   ],
   "source": [
    "#Reading again the file in case it is a offline analysis\n",
    "df = pd.read_csv('honeypot_googlescholar_query_honeypot_20190722.csv',index_col=0).dropna()\n",
    "df.head()"
   ]
  },
  {
   "cell_type": "code",
   "execution_count": 7,
   "metadata": {},
   "outputs": [
    {
     "name": "stdout",
     "output_type": "stream",
     "text": [
      "TOTAL ENTRIES: 393\n"
     ]
    }
   ],
   "source": [
    "print(\"TOTAL ENTRIES:\",len(df))"
   ]
  },
  {
   "cell_type": "code",
   "execution_count": 70,
   "metadata": {},
   "outputs": [
    {
     "name": "stdout",
     "output_type": "stream",
     "text": [
      "Distinct Source of Information: 74\n",
      "\n",
      "Frequency of Source of Information:\n",
      "ieeexplore.ieee.org          141\n",
      "link.springer.com             38\n",
      "en.cnki.com.cn                22\n",
      "pdfs.semanticscholar.org      21\n",
      "patents.google.com            20\n",
      "dl.acm.org                    17\n",
      "citeseerx.ist.psu.edu         15\n",
      "sciencedirect.com              9\n",
      "researchgate.net               9\n",
      "ro.ecu.edu.au                  5\n",
      "usenix.org                     5\n",
      "academia.edu                   5\n",
      "cqvip.com                      5\n",
      "onlinelibrary.wiley.com        5\n",
      "tandfonline.com                4\n",
      "arxiv.org                      4\n",
      "search.ieice.org               3\n",
      "pdiconnect.com                 3\n",
      "infosecwriters.com             2\n",
      "mecs-press.net                 2\n",
      "apps.dtic.mil                  2\n",
      "books.google.nl                2\n",
      "spiedigitallibrary.org         2\n",
      "eurecom.fr                     2\n",
      "madoc.bib.uni-mannheim.de      1\n",
      "docsdrive.com                  1\n",
      "cscjournals.org                1\n",
      "1is.us                         1\n",
      "krishisanskriti.org            1\n",
      "drum.lib.umd.edu               1\n",
      "Name: link, dtype: int64\n"
     ]
    }
   ],
   "source": [
    "source_distribution = df['link'].dropna().apply(lambda x: urlparse(x)[1].replace(\"www.\",\"\")).value_counts()\n",
    "print(\"Distinct Source of Information:\",len(source_distribution))\n",
    "print()\n",
    "print(\"Frequency of Source of Information:\")\n",
    "print(source_distribution.head(30))"
   ]
  },
  {
   "cell_type": "markdown",
   "metadata": {},
   "source": [
    "The most important source of information are: \n",
    "- ieeexplore.ieee.org\n",
    "- dl.acm.org\n",
    "- link.springer.com\n",
    "- pdfs.semanticscholar.org\n",
    "- sciencedirect.com\n",
    "- researchgate.net\n",
    "\n",
    "Of course the RFCs of IETF are also very important:\n",
    "- rfc-editor.org \n",
    "- tools.ietf.org\n",
    "- datatracker.ietf.org"
   ]
  },
  {
   "cell_type": "markdown",
   "metadata": {},
   "source": [
    "## Exporting information to csv files based on the source of information"
   ]
  },
  {
   "cell_type": "markdown",
   "metadata": {},
   "source": [
    "## Crawling abstracts from IEEE"
   ]
  },
  {
   "cell_type": "code",
   "execution_count": 15,
   "metadata": {},
   "outputs": [],
   "source": [
    "df[df['link'].str.contains(\"ieeexplore.ieee.org\")].to_csv(\"honeypot_ieee.csv\")"
   ]
  },
  {
   "cell_type": "code",
   "execution_count": 68,
   "metadata": {
    "scrolled": false
   },
   "outputs": [
    {
     "name": "stdout",
     "output_type": "stream",
     "text": [
      "https://ieeexplore.ieee.org/abstract/document/1264861/\n",
      "Spammers continually scan the Internet for open proxy relays: by using these open relays, they can obscure their originating IP address and remain anonymous. However, when a spammer comes across a service on a honeypot, that honeypot can collect valuable information about the spammer's true identity and help unmask it. In response to the threat that honeypots pose to spammers, the first commercial anti-honeypot technology has surfaced: Send-Safe's Honeypot Hunter (www.send-safe. com) attempts to detect \\\"safe\\\" proxies for use with bulk-mailing tools. This honeypot-detection system's appearance, in association with other emerging spam tools, suggests three important trends: honeypots are affecting spammers, current honeypot technology is detectable, and more honeypot-identification systems are likely. The ability to detect a honeypot is unlikely to remain limited to spammers; other hostile or malicious groups could benefit from similar identification systems. In an effort to create undetectable honeypot systems, we need a significant improvement in today's honeypot technologies.\n",
      "https://ieeexplore.ieee.org/abstract/document/1633509/\n",
      "Because \\\"botnets\\\" can be used for illicit financial gain, they have become quite popular in recent Internet attacks. \\\"Honeypots\\\" have been successfully deployed in many defense systems. Thus, attackers constructing and maintaining botnets are forced to find ways to avoid honeypot traps. In this paper, we present a hardware and software independent honeypot detection methodology based on the following assumption: security professionals deploying honeypots have liability constraints such that they cannot allow their honeypots to participate in real (or too many real) attacks. Based on this assumption, attackers can detect honeypots in their botnet by checking whether the compromised machines in the botnet can successfully send out unmodified malicious traffic to attackers' sensors or whether the bot controller in their botnet can successfully relay potential attack commands. In addition, we present a novel \\\"two-stage reconnaissance\\\" worm that can automatically construct a peer-to-peer structured botnet and detect and remove infected honeypots during its propagation stage. Finally, we discuss some guidelines for defending against the general honeypot-aware attacks\n",
      "https://ieeexplore.ieee.org/abstract/document/1356776/\n",
      "Modern technology in the area of intrusion detection is honeypot technology that, unlike common IDSs, tends to provide the attacker with all the necessary resources needed for a successful attack. Honeypots provide a platform for studying the methods and tools used by the intruders (blackhat community), thus deriving their value from the unauthorized use of their resources. This paper discusses the design of a dynamic honeypot, which is an autonomous honeypot capable of adapting in a dynamic and constantly changing network environment. The dynamic honeypot approach integrates passive or active probing and virtual honeypots. This approach addresses the challenge of deploying and configuring virtual honeypots.\n",
      "https://ieeexplore.ieee.org/abstract/document/4020829/\n",
      "This paper presents an experimental study and the lessons learned from the observation of the attackers when logged on a compromised machine. The results are based on a six months period during which a controlled experiment has been run with a high interaction honeypot. We correlate our findings with those obtained with a worldwide distributed system of low-interaction honeypots\n",
      "https://ieeexplore.ieee.org/abstract/document/1236295/\n",
      "A honeypot is a supplemented active defense system for network security. It traps attacks, records intrusion information about tools and activities of the hacking process, and prevents attacks outbound the compromised system. Integrated with other security solutions, a honeypot can solve many traditional dilemmas. We expatiate key components of data capture and data control in a honeypot, and give a classification for honeypots according to security goals and application goals. We review the technical progress and security contribution of production honeypots and research honeypots. We present typical honeypot solutions and predict the technical trends of integration, virtualization and distribution for future honeypots.\n",
      "https://ieeexplore.ieee.org/abstract/document/7600214/\n",
      "Attacks of Ransomware are increasing, this form of malware bypasses many technical solutions by leveraging social engineering methods. This means established methods of perimeter defence need to be supplemented with additional systems. Honeypots are bogus computer resources deployed by network administrators to act as decoy computers and detect any illicit access. This study investigated whether a honeypot folder could be created and monitored for changes. The investigations determined a suitable method to detect changes to this area. This research investigated methods to implement a honeypot to detect ransomware activity, and selected two options, the File Screening service of the Microsoft File Server Resource Manager feature and EventSentry to manipulate the Windows Security logs. The research developed a staged response to attacks to the system along with thresholds when there were triggered. The research ascertained that witness tripwire files offer limited value as there is no way to influence the malware to access the area containing the monitored files.\n",
      "https://ieeexplore.ieee.org/abstract/document/6587320/\n",
      "Rigorously characterizing the statistical properties of cyber attacks is an important problem. In this paper, we propose the first statistical framework for rigorously analyzing honeypot-captured cyber attack data. The framework is built on the novel concept of stochastic cyber attack process, a new kind of mathematical objects for describing cyber attacks. To demonstrate use of the framework, we apply it to analyze a low-interaction honeypot dataset, while noting that the framework can be equally applied to analyze high-interaction honeypot data that contains richer information about the attacks. The case study finds, for the first time, that long-range dependence (LRD) is exhibited by honeypot-captured cyber attacks. The case study confirms that by exploiting the statistical properties (LRD in this case), it is feasible to predict cyber attacks (at least in terms of attack rate) with good accuracy. This kind of prediction capability would provide sufficient early-warning time for defenders to adjust their defense configurations or resource allocations. The idea of “gray-box” (rather than “black-box”) prediction is central to the utility of the statistical framework, and represents a significant step towards ultimately understanding (the degree of) the predictability of cyber attacks.\n",
      "https://ieeexplore.ieee.org/abstract/document/1324605/\n",
      "A major goal of honeypot research is to improve our knowledge of blackhats from two perspectives: technical and ethnological. For the former we want new ways to discover rootkits, Trojans, and potential zero-day exploits. For the latter, we want a better understanding of the areas of interest and hidden links between blackhat teams. One way to achieve these goals is to increase the verbosity of our honeypot logs and traces so that we learn every single action the intruder made. The most common tools for doing this are Sebek for system events and Snort for network activity. Unfortunately, there is no easy way to correlate information from these sources, which complicates honeypot forensics. Although computer forensics focuses on analyzing a system once we suspect it has been compromised, we expect honeypots to be compromised. Thus, honeypot forensics focuses on understanding the blackhat's techniques and tools, before and after its intrusion on the honeypot. The article looks at: network activity analysis; building the network timeline; and tools and techniques.\n",
      "https://ieeexplore.ieee.org/abstract/document/1579742/\n",
      "This paper presents a summary of university research performed on honeypot techniques and summarizes the results Honeypots are computing resources that serve no other purpose on a network than to be a target for attackers, and log data about the attacks. Low-interaction and high-interaction honeypots were implemented and deployed on a university network, and data was logged and analyzed about attacks that occurred during the honeypots’ deployment. Current efforts in the \\\"black hat\\\" attacker community focusing on detecting and subverting honeypots are discussed, and recommendations are made to improve the usage of honeypots as an attack profiling tool by improving the control measures that make a honeypot easy to detect.\n",
      "https://ieeexplore.ieee.org/abstract/document/1579551/\n"
     ]
    },
    {
     "name": "stdout",
     "output_type": "stream",
     "text": [
      "Honeypots are computer systems that try to fool cyberattackers into thinking they are ordinary computer systems, when in fact they are designed solely to collect data about attack methods and thereby enable better defense against attackers. Honeypots are more effective the more ordinary they appear, but so far designers have just used intuition in designing them. So it is valuable to develop metrics for measuring the effectiveness of honeypot deception. We report on several software tools we have developed for assessing the effectiveness of honeypots, particularly a metric-calculating tool that summarizes a file system by a vector of 72 numbers. Comparison of vectors between fake and real systems can guide design of the fake. We show that this metric tool, applied to a detailed fake file system we constructed, confirms that it is convincing in most ways.\n",
      "https://ieeexplore.ieee.org/abstract/document/4258527/\n",
      "Voice over IP (VoIP) or telephony services over Internet announces a new revolution in the telecommunication world tor its management simplicity and cost reduction. VoIP security extends the existent risk range of IP protocols and infrastructures and introduces new attacks as well. Threats identification and standardization, secure signaling and media architectures, as well as intrusion detection and prevention mechanisms are currently under debate in the research community. We propose in this article a SIP (Session Initiation Protocol) specific honeypot We describe its design and implementation. We detail the inference mechanism which classifies the received messages. We show how the model investigates about a received call and raises an appropriate conclusion.\n",
      "https://ieeexplore.ieee.org/abstract/document/1437793/\n",
      "The deployment of low-interaction honeypots used mainly as deception tools has become more and more common these days. Another interesting but more resource and time consuming playground is made available thanks to high interaction honeypots where a blackhat can connect to the system and download, install and execute his own tools in a less constrained environment. Once caught in the honeypot, the blackhat leaves many fingerprints behind: network (information gathering scans, IRC chats, mail, etc) and system activity (what he did on the system, which tools he used, etc). The aim of honeypot forensics is to identify these fingerprints as part of the evidence gathering process. We present a methodology that will help the analyst to achieve this goal. The first step is to analyze the honeypot's ingress and egress network traffic. The second one is to look at the actions performed by the blackhat and the tools he used on the honeypot. The next step is to correlate these data: network and system events are joined to identify common events or patterns, and also to highlight unexplained items and focus on them.\n",
      "https://ieeexplore.ieee.org/abstract/document/7857804/\n",
      "Advanced metering infrastructure (AMI) is an important component for a smart grid system to measure, collect, store, analyze, and operate users consumption data. The need of communication and data transmission between consumers (smart meters) and utilities make AMI vulnerable to various attacks. In this paper, we focus on distributed denial of service attack in the AMI network. We introduce honeypots into the AMI network as a decoy system to detect and gather attack information. We analyze the interactions between the attackers and the defenders, and derive optimal strategies for both sides. We further prove the existence of several Bayesian-Nash equilibriums in the honeypot game. Finally, we evaluate our proposals on an AMI testbed in the smart grid, and the results show that our proposed strategy is effective in improving the efficiency of defense with the deployment of honeypots.\n",
      "https://ieeexplore.ieee.org/abstract/document/5463678/\n",
      "Modern attacks are being made against client side applications, such as web browsers, which most users use to surf and communicate on the internet. Client honeypots visit and interact with suspect web sites in order to detect and collect information about malware to protect users from malicious websites or to allow security professionals to investigate malicious content. This paper will present the idea of using web-based technology and integrating it with a client honeypot by building a low interaction client honeypot tool called Honeyware. It describes the benefits of Honeyware as well as the challenges of a low interaction client honeypot and provides some ideas for how these challenges could be overcome.\n",
      "https://ieeexplore.ieee.org/abstract/document/1639674/\n",
      "The Denial-of-Service (DoS) attack remains a challenging problem in the current Internet. In a DoS defense mechanism, a honeypot acts as a decoy within a pool of servers, whereby any packet received by the honeypot is most likely an attack packet. We have previously proposed the roaming honeypots scheme to enhance this mechanism by camouflaging the honey-pots within the server pool, thereby making their locations highly unpredictable. In roaming honeypots, each server acts as a honeypot for some periods of time, or honeypot epochs, the duration of which is determined by a pseudo-random schedule shared among servers and legitimate clients. In this paper, we propose a honeypot back-propagation scheme to trace back attack sources when attacks occur. Based on this scheme, the reception of a packet by a roaming honeypot triggers the activation of a DAG of honeypot sessions rooted at the honeypot under attack towards attack sources. The formation of this tree is achieved in a hierarchical fashion: first at the autonomous system (AS) level and then at the router level within an AS if needed. The proposed scheme supports incremental deployment and provides deployment incentives for ISPs. Through ns-2 simulations, we show how the proposed scheme enhances the performance of a vanilla Pushback defense by obtaining accurate attack signatures and acting promptly once an attack is detected\n",
      "https://ieeexplore.ieee.org/abstract/document/1341417/\n",
      "Although flows are an effective method for monitoring honeypots in real time, they are not sufficient if we want to learn more about the intruder. To accomplish this goal, we must investigate the compromised host itself. In this article, we show how to build two timelines of events: one from network clues and the other from what the host tells us. We can then merge these timelines and answer additional questions.\n",
      "https://ieeexplore.ieee.org/abstract/document/5336925/\n",
      "Wireless mesh networking (WMN), the static mesh routers (MRs) cooperatively relay each other packets to the Internet Gateway (IGW). The routing protocols assume all the nodes in the network to be non-malicious. However, the open architecture of WMNs paves way to malicious attackers who can exploit hidden loopholes in the routing protocol. In this paper, we mainly focus on the vulnerability of the network to a suction attack called blackhole attack. In detecting such attacks, we explore the use of intelligent agents called honeypots which are roaming virtual software agents that generate a dummy route request (RREQ) packets to lure and trap blackhole attackers. We illustrate the performance of our proposed detection approach by extensive simulation results using the ns-2 simulator.\n",
      "https://ieeexplore.ieee.org/abstract/document/1345313/\n",
      "We present an application of a honeypot in detection collaboration with an intrusion detection system. We have designed and implemented a honeypot port-scan detection system for scan detection, which can work as a module of the intrusion detection system and can also run independently. Nowadays, intrusion detection systems face more challenges, such as data overload, high false positives and negatives, and being incapable of understanding the encrypted or IPv6 packets. We introduce new data structures (such as a new link structure for slow scan) and new event mechanisms in our system, and present a new method to solve some weaknesses in known techniques, so our system can provide an early scan warning and detect some new attacks. Our tests on this system in a typical network environment show that the system has very low false positives and false negatives.\n",
      "https://ieeexplore.ieee.org/abstract/document/4709194/\n"
     ]
    },
    {
     "name": "stdout",
     "output_type": "stream",
     "text": [
      "With the improvement of software security, attacks based on RPC vulnerabilities declined, however, attacks based on client application software vulnerabilities have increased. Such client application software includes Web browsers, email client and office. The spread of malware using these software vulnerabilities has become a severe threat to todaypsilas Internet. In allusion to this kind of threat, this paper designed an Internet malware collecting system based on client-side honeypot. This system can not only collect malware but also detect malicious Web site. It uses a unique network crawler based on client-side attack techniques to collect source of URL, and it collects URL and attachments from emails, then it creates software processes to open URL or files, and uses a device-drive monitor to detect malicious behaviors. It gives an alarm and locates the malicious file, and sends the malware coming through the Internet to the collecting server. We introduce the design and implement of this system and give the results.\n",
      "https://ieeexplore.ieee.org/abstract/document/5755487/\n",
      "Attack detection in high-speed networks is a hot research topic. While the performance of packet oriented signature-based approaches is questionable, flow-based anomaly detection shows high false positive rates. We tried to combine both techniques. In this paper, we study the applicability of flow-based attack detection. We installed a lab environment consisting of a monitoring infrastructure and a well-controlled honeypot. Using correlated honeypot logs and flow signatures, we created a first set of attack pattern. The evaluation of the approach was done within our university network. On the positive side, we were able to prove the successful detection of worm attacks. Problems can occur if incomplete monitoring data is used.\n",
      "https://ieeexplore.ieee.org/abstract/document/4777392/\n",
      "Honeypots are physical or virtual machines successfully used as intrusion detection tools to detect worm-infected hosts. Denial of service (DoS) attack consumes the resources of a remote client or network itself, there by denying or degrading the service to the legitimate users. In a DoS defense mechanism, a honeypot acts as a detective server among the pool of servers in a specific network; where any packet received by the honeypot is most likely a packet from an attacker. This paper points out a number of drawbacks such as Legitimate Attacker and Link Unreachable problem in the existing honeypot schemes. This paper proposes a new efficient honeypot model to solve all the existing problems by opening a virtual communication port for any specific communication between an authorized client and server; and by providing facility to act as an Active Server (AS) for any honeypot.\n",
      "https://ieeexplore.ieee.org/abstract/document/5076341/\n",
      "Honeypots are flexible security tools for gathering artefacts associated with a variety of Internet attack activities. While existing work on honeypot traffic analysis focuses mainly on identifying existing attacks, this paper describes a technique for detecting new attacks based on principal component analysis. The proposed technique requires no prior knowledge of attack types and has low computational requirements that makes it suitable for online detection systems. Our method of detecting new attacks is based on measuring changes in the residual space using square prediction error (SPE) statistics. When attack vectors are projected onto the residual space, attacks that are not presented by the main hyperspace will create new directions with high SPE values. We demonstrate the usefulness of our technique by using real traffic data from the Leurre.com project, a world-wide deployment of low-interaction honeypots, where several examples of new traffic detected by the system are illustrated.\n",
      "https://ieeexplore.ieee.org/abstract/document/4663317/\n",
      "Monitoring Internet traffic is critical in order to acquire a good understanding of threats and in designing efficient security systems. While honeypots are flexible security tools for gathering intelligence of Internet attacks, traffic collected by honeypots is of high dimensionality that makes it difficult to characterize. In this paper, we propose the use of principal component analysis, a multivariate analysis technique, for characterizing honeypot traffic and separating latent groups of activities. In addition, we show the usefulness of principal component plots in visualizing the interrelationships between the detected groups of activities and in finding outliers. This work is demonstrated through the use of low interaction honeypot traffic data from the Leurre.com project, a world wide deployment of low interaction honeypots.\n",
      "https://ieeexplore.ieee.org/abstract/document/5622780/\n",
      "With the development of the network attack technique, the increase of the security risk on the internet, each host in the network may be the target of the attack. Honeypot technology can proactively detect and respond to the intrusion and the attack of the network. Compared with other security mechanisms, it has the feature of using simply, configurations flexibly, occupying less resource, and working effectively in a complex environment, furthermore, all the collected data and information has a good relevant and study value, so that it can capture and analyze the characteristic, which can effectively limit the spread of the aggressive behavior on the network.\n",
      "https://ieeexplore.ieee.org/abstract/document/7442780/\n",
      "In modern days, breakthroughs in information and communications technologies lead to more and more devices of every imaginable type being connected to the Internet. This also strengthens the need for protection against cyber-attacks, as virtually any devices with a wireless connection could be vulnerable to malicious hacking attempts. Meanwhile, honeypot-based deception mechanism has been considered as one of the methods to ensure security for modern networks in the Internet of Things (IoT). In this paper, we address the problem of defending against attacks in honeypot-enabled networks by looking at a game-theoretic model of deception involving an attacker and a defender. The attacker may try to deceive the defender by employing different types of attacks ranging from a suspicious to a seemingly normal activity, while the defender in turn can make use of honeypots as a tool of deception to trap attackers. The problem is modeled as a Bayesian game of incomplete information, where equilibria are identified for both the one-shot game and the repeated game versions. Our results show that there is a threshold for the frequency of active attackers, above which both players will take deceptive actions and below which the defender can mix up his/her strategy while keeping the attacker's success rate low.\n",
      "https://ieeexplore.ieee.org/abstract/document/4482815/\n",
      "When traditional firewall and intrusion detection systems (IDS) are used to detect possible attacks from the network, they often make wrong decisions and block the legitimate connections. In this paper we propose a new architecture which is composed of distributed agents and honeypot. The main focus of our approach lies in reducing the false alarm rate of the attack detection. Using the honeypot scheme, this system is able to avoid many wrong decisions made by IDS. In this system alarming adversaries, initially detected by the IDS, will be rerouted to a honeypot network for a more close investigation. If as a result of this investigation, it is found that the alarm decision made by the IDS of the agent is wrong, the connection will be guided to the original destination in order to continue the previous interaction. This action is hidden to the user. Such a scheme significantly decreases the alarm rate and provides a higher performance of IDS. In this paper the architecture of the proposed system is described, a theoretical analysis of its behavior is given and its possible extension and implementation are explained.\n",
      "https://ieeexplore.ieee.org/abstract/document/1592526/\n",
      "This paper intends to illustrate the usefulness of deploying multiple simple honeypot sensors in a large variety of locations. Indeed, a permanent identification of anomalies that occur on a single sensor allows pinpointing abnormal local activities. These can be the manifest of misconfiguration issues or highlight attacks particular to some given environments. Both cases are important for administrators in charge of the networks hosting the sensors. We propose in this paper a comparison of simple parameters that reveal to be an easy way to determine these abnormal and particular activities. On the basis of two identical honeypot sensors that we have deployed for more than 6 months in France and in Taiwan, we detail the analysis of some anomalies that have been found against one unique sensor only. This is a preliminary but useful stage for network forensics and we intend in a near future to deploy the method over a large number of sensors. This is an on-going work and we hope that the illustrations we provide all along the paper a good incentive for partners to join this open project.\n",
      "https://ieeexplore.ieee.org/abstract/document/6187883/\n"
     ]
    },
    {
     "name": "stdout",
     "output_type": "stream",
     "text": [
      "This paper presents an intrusion detection module based on honey pot technology, which utilizes IP Trace back technique. By using the mobile agents, this module has the capability of distributed detection and response, the whole detection module can be extended with convenience and be configured dynamically and flexibly. By using honey pot technology, this module traces the intrusion source farthest.\n",
      "https://ieeexplore.ieee.org/abstract/document/6866707/\n",
      "The wide spread of cyber-attacks made the need of gathering as much information as possible about them, a real demand in nowadays global context. The honeypot systems have become a powerful tool on the way to accomplish that. Researchers have already focused on the development of various honeypot systems but the fact that their administration is time consuming made clear the need of self-adaptive honeypot system capable of learning from their interaction with attackers. This paper presents a self-adaptive honeypot system we are developing that tries to overlap some of the disadvantaged that existing systems have. The proposed honeypot is a medium interaction system developed using Python and it emulates a SSH (Secure Shell) server. The system is capable of interacting with the attackers by means of reinforcement learning algorithms.\n",
      "https://ieeexplore.ieee.org/abstract/document/1273174/\n",
      "Traditionally, the strategy to defend one's organization as best as possible is to detect any failures in the defense, and then react to those failures. The problem with this approach is that it is purely defensive; the enemy is on the attack. Honeypots attempt to change this; they give the organizations the ability to take the initiative. Honeypots help to explore new vulnerabilities in an organization and defining the security policy of an organization. A honeypot is used in the area of computer and Internet security. It is a resource, which is intended to be attacked or compromised to gain more information about the attacker and his attack techniques. It can also be used to attract and divert an attacker from the real targets. This paper focuses on the possibilities of honeypots and their use in an educational as well as productive environment. Also 'Mirage' - honeypot developed by us has been discussed. This system was not only implemented but also tested for several days and the collected data of the attacks was analyzed. A conclusion about the new technology of honeypots and a look into the future of honeypots is discussed.\n",
      "https://ieeexplore.ieee.org/abstract/document/5319295/\n",
      "Honeypots are valuable tools for detecting and analyzing malicious activity on the Internet. Successful and time-critical detection of such activity often depends on large-scale deployment. However, commercial organizations usually do not share honeypot data, and large, open honeypot initiatives only provide read-only alert feeds. As a result, while large and resourceful organizations can afford the high cost of this technology, smaller security firms and security researchers are fundamentally constrained. We propose and build a shared infrastructure for deploying and monitoring honeypots, called HoneyLab, that is similar in spirit to PlanetLab. With an overlay and distributed structure of address space and computing resources, HoneyLab increases coverage and accelerates innovation among security researchers as well as security industry experts relying on honeypot-based attack detection technology. Unlike current honeypot infrastructures, HoneyLab allows security firms and security researchers to deploy their own honeypot services, instrumentation code, and detection algorithms, dispensing the need for setting up a separate honeypot infrastructure whenever a new attack detection method needs to be deployed or tested.\n",
      "https://ieeexplore.ieee.org/abstract/document/5411968/\n",
      "Routing protocols are essential for interconnecting networks; however they may enclose several vulnerabilities that can be exploited by malicious attackers. For example, an attacker may send forged packets to a router with the intention of changing or corrupting the routing table, which in turn can reduce the network connectivity and degrade the router functionalities. To prevent and detect such attacks, several security techniques are available like firewall, authentication mechanisms and intrusion detection system (IDS). Nevertheless these security methods encounter some problems, especially when dealing with new attacks. Relying on additional security principles seems to be important to well protect network connectivity offered by routers. In this paper, we propose using honeypot to protect routing protocols. Honeypot is particularly useful to attract attackers, driving them away real routers and allowing the administrators to be aware about intrusion attempts on their networks and the employed techniques that can be recent. Our solution (honeypot router) is to deploy a honeypot playing the role of a router. The honeypot is based on routing software called Quagga and other tools for traffic capture and analysis. The entire solution supervises all routing traffic, so it detects and studies new attacks against routing protocols (RIP, OSPF and BGP).\n",
      "https://ieeexplore.ieee.org/abstract/document/6268588/\n",
      "Honeypot is a closely monitored computer resource that emulates behaviors of production host within a network in order to lure and attract the attackers. The workability and effectiveness of a deployed honeypot depends on its technical configuration. Since honeypot is a resource that is intentionally made attractive to the attackers, it is crucial to make it intelligent and self-manageable. This research reviews at artificial intelligence techniques such as expert system and case-based reasoning, in order to build an intelligent honeypot.\n",
      "https://ieeexplore.ieee.org/abstract/document/4267550/\n",
      "Internet attacks are becoming more advanced as the economy for cybercrime grows and the tools for evading detection become ubiquitous. To counter this threat, new detection and forensics tools are needed to capture these new techniques. In this paper, we propose a method to extract and analyze a richer set of forensic information from the file system journal of honeypots in spite of anti-forensic tool use. We show initial results of our journal monitoring prototype, TimeKeeper, of file system activities and argue that by detecting these events, we are able to capture previously unavailable forensic information. This forensic information can then be used for system recovery, research on attack techniques, insight into attacker motives, and for criminal investigations.\n",
      "https://ieeexplore.ieee.org/abstract/document/5234504/\n",
      "In this paper, on the basis of the research on Honeypot technology, in view of the many problems in current traditional security resource applications, the Honeypot technology is used in network security defense, and a Honeypot-based distributed intrusion prevention model is presented. The experimental results show that the program can successfully remedy the deficiencies of existing monitoring system and improve the performance of the safety defense systems.\n",
      "https://ieeexplore.ieee.org/abstract/document/6024606/\n",
      "A Honeypot is an information system resource used to divert attackers and hackers away from critical resources as well as a tool to study an attacker's methods. One of the most widely used tools is honeyd for creating honeypots. The logs generated by honeyd can grow very large in size when there is heavy attack traffic in the system, thus consuming a lot of disk space. The huge log size poses difficulty when they are processed and analyzed by security analysts as they consume a lot of time and resources. In this paper, we propose a system which addresses these issues. It has two important modules. The first one is logging module which saves disk space by reducing the log size without losing information. The second module is a log analyzer that can process this log to generate reports and graphs for the security administrators. The analyzer is backward compatible and can process the log file produced by honeyd as well. The experimental results show that the space required by log file reduces significantly.\n",
      "https://ieeexplore.ieee.org/abstract/document/1286568/\n"
     ]
    },
    {
     "name": "stdout",
     "output_type": "stream",
     "text": [
      "In this paper, we describe the development of J-Honeypot, a Java-based network deception tool with a Web-based monitoring interface and a rule-based intrusion detection engine. Our J-Honeypot is based on the Honeyd program by Niels Provos, but features important enhancements. First, since J-Honeypot is written in Java, it can potentially run on various platforms, Windows or UNIX, workstations or handheld devices. Second, J-Honeypot has a rule-based intrusion detection engine, whose design is guided by the analysis of real world attack data. The attack data was collected by opening up our J-Honeypot to solicit possible attacks. Third, J-Honeypot includes a Web-based monitoring tool that is easily accessible and can help network administrators better understand network traffic and possible attacks.\n",
      "https://ieeexplore.ieee.org/abstract/document/5587041/\n",
      "Honeypot is an effective security tool, which is intended to be attacked and compromised to gain more information about the attacker and his attack techniques. To study these attacks, the honeypot must capture and log large amounts of data which are very difficult to process manually. So, the analysis of these logs has become a very difficult and time consuming task. To resolve this problem, several researchers have proposed the use of data mining techniques in order to classify logged traffic and extract useful information. In this paper, we present a data analysis tool for our Honeypot Router. This tool is based on data mining clustering. The main idea is to extract useful features from data captured by the Honeypot Router. These data will be then clustered by using the DBSCAN clustering algorithm in order to classify the captured packets and extract those that are suspicious. Suspicious packets will be then verified by a human expert. This solution is very useful to detect novel routing attacks.\n",
      "https://ieeexplore.ieee.org/abstract/document/6305259/\n",
      "We investigated client honeypots for detecting and circumstantially analyzing drive-by download attacks. A client honeypot requires both improved inspection performance and in-depth analysis for inspecting and discovering malicious websites. However, OS overhead in recent client honeypot operation cannot be ignored for improving honeypot multiplication performance. We propose a client honeypot client system that uses our proposed multi-OS and multi-process honeypot multiplication approaches and implemented this system to evaluate its performance. Our process sandbox mechanism, a security measure for our multi-process approach, creates a virtually isolated environment for each web browser. In a field trial, we confirmed that the use of our multi-process approach was three or more times faster than that of a single process and [our multi-OS approach lineally improved system performance according to the number of honeypot instances. Thus, our proposed multiplication approaches improve performance efficiency and enables in-depth analysis on high interaction systems.\n",
      "https://ieeexplore.ieee.org/abstract/document/6407408/\n",
      "We innovatively propose a honeypot monitoring system for mobile communication to decrease the possibility of smart phones being attacked by viruses. The system applies the idea of active honeypot theory and combines with communication protection. We initially clarify the high safety protection performance of our honeypot monitoring system in the following steps: we simulates the wireless access environment and then capture the mobile phones; after that, our system can search for potential attacks, as well as analyze and monitor their communication behaviors. We discuss the feasibility and efficiency of our system by testing an Android smart phone which carries a malware that can embezzle the phone's address book. After initially triggering the malware, we use our honeypot system to show the monitoring result. Our honeypot monitoring system for mobile communication, which is mainly applied in radio link safety protection, can effectively find potential hazards and optimize protective environment. Our system will play an important role in various aspects such as commercial activities promotion and personal information protection.\n",
      "https://ieeexplore.ieee.org/abstract/document/7065744/\n",
      "Attackers are most likely to exploit invalidated and unsanitized user input with several attacks such as cross-site scripting (XSS) or SQLinjection. Many methods were proposed to prevent those attacks. Some of them were created to learn about pattern and behavior of the attacker. That is honeypot. Honeypot is classified into two types based on the simulation that honeypot can do : low interaction and high interaction. In this paper, we propose a low-interaction honeypot for emulating vulnerabilities that can be exploited using XSS and SQL injection attacks. But this honeypot not only records attacker's request, but also try to expose attacker identity by using some browser exploitation techniques. Some attackers would use techniques to hide their identity, thus they couldn't be tracked. Our proposed honeypot was trying to overcome this problem by giving them malicious JavaScript codes. The malicious JavaScript codes will be run when an attacker open the honeypot's website. We have conducted several test to see how our honeypot's performance. Our honeypot could catch more useful information about the HTTP request than popular web-based honeypot, Glastopf. Moreover, there were attacker's social media accounts caught by using LikeJacking technique although they might have used proxy or TOR to hide their identity.\n",
      "https://ieeexplore.ieee.org/abstract/document/5486267/\n",
      "For the shortcoming of traditional intrusion detection system (IDS) in complex and unknown attack detection. A distributed intrusion detection system based on honeypot was proposed. We make use of honeypot to collect the invasion characteristics on the network, and use the method of unsupervised clustering (UC) and genetic clustering to extract the data for analysis. In addition, in order to improve the detection performance of the IDS, it combined protocol analysis with signature detection modules. Experiments result show that this system can better detect intrusion and improve the overall safety performance of large-scale networks.\n",
      "https://ieeexplore.ieee.org/abstract/document/6014704/\n",
      "Nowdays firewall technology in the field of the network security has been used widely, however, facing to various means of attacks, the vulnerability and limitations of firewall technology are more obvious. The paper discusses the honeypot technology in the field of the network security technology. According to the existed shortage of honeypot system, the distributed honeypot intrusion system based on intrusion tracking was proposed. The system uses distributed deployment. It expands the network area, and uses the package marking technology to identify sources of real attacks. The existed network is protected better.\n",
      "https://ieeexplore.ieee.org/abstract/document/7983603/\n",
      "Wireless Personal Area Networks (WPAN) allow for the implementation of applications such as home automation, remote control services, near-field technologies and personal health care management. Security is a critical requirement of the standards and protocols for these environments. One suite of layered protocols within WPAN is ZigBee. ZigBee is a low bit rate protocol utilised in Wireless Sensor Networks (WSN). Attacks such as physical, crypto key interception, injection and replay are perpetrated on ZigBee networks. These attacks can be instigated and controlled within the physical ZigBee WSN location or via a gateway. This paper creates a honeypot that simulates a ZigBee gateway. It is designed to assess the presence of ZigBee attack intelligence on a SSH attack vector. It captures all attack traffic for retrospective analysis. It sandboxes attacks of interest to determine if any attempts are targeting ZigBee specifically. Finally it concludes that all captured mass attacks are mainstream DDoS and bot malware, whereas individual attackers where attracted to and interacted with the ZigBee simulated Honeypot.\n",
      "https://ieeexplore.ieee.org/abstract/document/7676152/\n"
     ]
    },
    {
     "name": "stdout",
     "output_type": "stream",
     "text": [
      "Honeypots derive much of their value from their ability to fool attackers into believing they're authentic machines. Current cyber-physical system (CPS) honeypots fail to sufficiently capture and simulate behavior that's necessary to project this authenticity. In response, the HoneyPhy framework was developed for CPS honeypots that takes into account behavior originating in the CPS process and devices that make up the CPS itself. HoneyPhy aims to make it possible to construct honeypots for complex CPSs. Here, the authors discuss their implementation of a proof-of-concept for this framework, and show that it's possible to simulate these behaviors in real time.\n",
      "https://ieeexplore.ieee.org/abstract/document/5990712/\n",
      "Voice over IP (VoIP) and the Session Initiation Protocol (SIP) are establishing themselves as strong players in the field of multimedia communications over IP, leveraged by low cost services and easy management. Nevertheless, the security aspects are not yet fully mastered. In this paper we present an open-source implementation of a VoIP SIP-specific honeypot named Artemisa. The honeypot is designed to connect to a VoIP enterprise domain as a back-end user-agent in order to detect malicious activity at an early stage. Moreover, the honeypot can play a role in the real-time adjustment of the security policies of the enterprise domain where it is deployed. We aim, by this contribution, to encourage the deployment of such honeypots at large scale and the collection of attack traces. We test the capacity of the honeypot to handle a series of known SIP attacks and present results from diverse scenarios.\n",
      "https://ieeexplore.ieee.org/abstract/document/5694317/\n",
      "Honeypots present networked computer systems with known security flaws to attackers and can serve to collect the executable code (malware) aiming to exploit the vulnerability. We describe and evaluate the proof-of-concept NetStage Architecture for a high-speed honeypot realized in reconfigurable logic. Dedicated hardware accelerators for the different network processing and detection layers allow the honeypot to operate at full speed of a 10 Gb/s connection and project the illusion of thousands of vulnerable systems at once. Furthermore, compromising the honeypot itself is significantly more difficult than in software honeypots, since all processing is handled by specialized hardware blocks instead of general purpose processors.\n",
      "https://ieeexplore.ieee.org/abstract/document/4299773/\n",
      "The inherent vulnerabilities in TCT/IP architecture give dearth of opportunities to DDoS attackers. The array of schemes proposed for detection of these attacks in real time is either targeted towards low rate attacks or high bandwidth attacks. Tresence of low rate attacks leads to graceful degradation of QoS in the network thus making them further undetectable. In this paper, we propose a scheme that uses three lines of defense. The first line of defense is towards detecting the presence of low rate as well as high bandwidth attacks based on entropy variations in small time windows. The second line of defense identifies and tags attack flows in real time. The last line of defense is redirecting the attack flows to honeypot server that responds in contained manner to the attack flows, thus providing deterrence and maintaining QoS at ISP level. We validate the effectiveness of the approach with simulation in ns-2 on a Linux platform.\n",
      "https://ieeexplore.ieee.org/abstract/document/5413764/\n",
      "Wireless technologies provide a new channel for implementation of mobile payments systems. In this regard, the potential of short-range wireless technologies such as Bluetooth is enormous. These systems can be used for proximity payment to vending machines or offering banking service in the bank area. However, unsolved security issues are the biggest barriers to the growth of mobile payment. This paper is focused on the security of banking services which can be offered through Bluetooth technology. We propose a solution using honeypots in bank environment to mitigate the risk of Bluetooth-enabled payment transactions. In this paper, we try to elaborate how honeypot systems can be exploited to reduce the chance of Bluetooth enabled attacks' success by limiting the client device discoverability for attackers.\n",
      "https://ieeexplore.ieee.org/abstract/document/6690926/\n",
      "The need to urgently address the security issues related to SCADA system remains high. Contrary to regular IT systems, most successful SCADA attacks can have serious consequences on the nation's economy, stability and, worse affect people's live directly. In this paper, we analyse the use of honey pot systems as a plausible solution to SCADA security problems. We start by analysing the threat landscape of SCADA systems and discuss the comparative differences between standard IT security and the required security for SCADA systems. After analysis of, various honey pots features in relation to SCADA security, we setup an experimental but realistic honey pot SCADA environment. We then test the suitability of honey pots in protecting SCADA systems and the efficiency of ``anti-honey pot'' techniques. Our results show, that when used properly, a high interaction honey pot can greatly enhance SCADA system security, and in some cases better than any other security system. We conclude by discussing our future work related to honey pots.\n",
      "https://ieeexplore.ieee.org/abstract/document/4195182/\n",
      "In this paper we propose the P2P Honeypot that prevents illegal or harmful files from spreading in P2P network. We apply the idea of Honeypot to P2P network. We build fake P2P service farms and monitor and trace users who spread or gain illegal or harmful files in P2P network. If we can apply this system widely, we can expect illegal or harmful files to be wiped out in P2P network.\n",
      "https://ieeexplore.ieee.org/abstract/document/1437808/\n",
      "A distributed honeypot system is a collection of honeypots distributed throughout the Internet that send their data to a central analysis point. In such a system, the need for automation, flexibility, and transparency in data control, data capture, and honeypot cleanup is more readily satisfied with virtual machine technology than with native installations. The Distributed Honeypot Project at Dartmouth College's Institute for Security Technology Studies has extended (and proposed further extensions to) User-Mode Linux (UML), a virtual-machine version of the Linux operating system, to satisfy these needs. The extensions make UML a more suitable honeypot platform, and will be useful to any Linux-based honeypot researcher.\n",
      "https://ieeexplore.ieee.org/abstract/document/4565077/\n",
      "A honeypot is a type of information system that is used to obtain information on intruders in a network. When a honeypot is deployed in front of a firewall, it can serve as an early warning system. When deployed behind the firewall, it can serve as part of a defense-in-depth system and can be used to detect attackers who bypass the firewall and the intrusion detection system (IDS) or threats from insiders. Honeyd is an open-source honeypot; however, it uses a command-line interface and its configuration is difficult for beginners. The purpose of this study is to use the open-source tool to construct a graphic user interface (GUI) for honeyd. For the sake of portability and easy deployment, the whole system will be installed in a live USB stick. The end user can create a honeyd template by using the GUI or the result of the Nmap scan of a target computer. Moreover, the system will provide a log-review interface and real-time SMS functionality. Finally, we deployed the designed system in a campus network and presented an analytic result of a 60-day period with a Web-based data analysis system.\n",
      "https://ieeexplore.ieee.org/abstract/document/7237039/\n",
      "Honeypots are an indispensable tool for network and system security as well as for computer forensic investigations. They can be helpful for detecting possible intrusions, as well as for gathering information about their source, attack patterns, final target and purpose. Highly interactive honeypots, are probably the most useful and enlightening ones, since they reveal many information about intruders' behavior and skills, even though the implementation and setup of such tools might require considerable efforts and computational resources. Accordingly we present an architecture for highly interactive honeypots aiming at detecting password-cracking attacks by means of honeywords and leveraging container-based virtualization to provide persistent sessions needed to capture attacker activities.\n",
      "https://ieeexplore.ieee.org/abstract/document/1495931/\n"
     ]
    },
    {
     "name": "stdout",
     "output_type": "stream",
     "text": [
      "Spam has become one of the most annoying and costly phenomenon in the Internet. Valid e-mail addresses belong to the most valuable resources of spammers, but little is known about spammers' behavior when collecting and harvesting addresses and spammers' capabilities and interest in carefully directed, consumer-oriented marketing have not been explored yet. Gaining insight into spammers' ways to obtain and (mis)use e-mail addresses is useful in many ways, e.g. for the assessment of the effectiveness of address obscuring techniques and the usability and necessity of hiding e-mail addresses on the Internet. This paper presents a spam honeypot project in progress addressing these issues by systematically placing e-mail addresses in the Internet and analyzing received e-mails. The honeypot's conceptual framework, its implementation, and first empirical results are presented. Finally, an outlook on further work and activities is provided.\n",
      "https://ieeexplore.ieee.org/abstract/document/1610006/\n",
      "Honeypots are highly valued for their detective function. However, suitable detection models use in honeypot system have not been fully explored. We present HonIDS, a honeypot system for detecting malicious hosts and intruders in local network. HonIDS is characterized by its layered structure and is enhanced by two detection models: TFRPP (times, frequency, range, port risk, average payload length) model and Bayes model. The basic idea of these models is that although it is hard to directly judge whether one interaction with the honeypots is an attack or malicious activity, it is possible to identify intruders by analyzing the plentiful and global events of honeypots in a given period of time. The TFRPP model gives the honeypot system the ability to assess different risks, by assigning dubiety scores to the hosts who visited honeypots. The Bayes detection model can detect some main types of attacks by classification. The results of our evaluation experiments indicate that TFRPP model and Bayes model are effective and suitable for honeypot system\n",
      "https://ieeexplore.ieee.org/abstract/document/6304786/\n",
      "The popularity of the Internet is rising day by day, hence the security is becoming the main focused point with the advent and rising popularity of the Internet. In this paper we are proposing an integrated framework of malware collection and analysis using both of the technologies called server honeypots and client honeypots. As the server honeypots enable us to provide the deep understanding of the server side attacks whereas client honeypots enable us to provide the deep understandings of client side attacks. During our research on honeypot technologies, our main goal was to do the analysis of collected malwares from honeypots and for this we need the malwares samples from both the honeypots known as client and server honeypots. By using this integrated framework we are able to collect both types of attacks vectors. Here we are presenting malware collection and detection using both of the honeypot technologies known as client and server Honeypots. We introduce the design and implement of this system and give the results.\n",
      "https://ieeexplore.ieee.org/abstract/document/6088149/\n",
      "In recent years, attackers have started to use web pages to deliver their malicious code to users. Web-based malware overcomes signature-based detection by modification of the code or using zero-day exploits. We propose a malicious activity detection method using Hidden Markov Models (HMM) alongside a client honeypot system. Our algorithm is able to detect the potential malicious behaviour of a web server based on current and past interactions between the web client and the server and can also predict possible future behaviours. The prediction algorithm learns from previously scanned behaviours recorded by a client honeypot system. We group such behaviours in order to enable common characteristics to be investigated across these groups.\n",
      "https://ieeexplore.ieee.org/abstract/document/5982237/\n",
      "For the hackers' attacks on the network is constantly updated, the traditional defense dealing with unknown invasion become powerless and can not effectively protect the network. This paper proposes the application of honeypots in the LAN system, where the virtual and physical honeypots are placed in a specific location. Honeypots can initiatively lure hackers to attack the internet, take the record of the ways and means of their invasion, and then analyze and study them. If necessary, the invasion records can be extracted to be evidence. In this way, you can learn about the latest attack methods and tools, updating Firewall and intrusion detection knowledge base and to some extent detering the intruder. This thesis focuses on the combination of a variety of defense technology to explore completely the advantages of Firewall, intrusion detection and honeypot technology to enhance the local area network security.\n",
      "https://ieeexplore.ieee.org/abstract/document/1578880/\n",
      "To meet network security requirement, the model of SISH (Study of Intrusion Signature based on Honeypot) takes advantage of honeypot technology to collect the activities of attackers on the honeypot. According to information replied from the honeypot, and data captured on the network, one can reproduce the attack with attack tree. Having classified the attack information of the attacked objects, one can create the signature of the intrusion data in the same class by LCS(Longest Common Sub-string) algorithm. new signatures are used to enrich the signature database of the IDS to make up for the deficiency of the IDSs and perfect defense system.\n",
      "https://ieeexplore.ieee.org/abstract/document/4580673/\n",
      "In this paper, a deceptive system, called honeyanole, is developed to escape from honeypot hunting as well as to collect attacking information. In honeyanole, three phases of collection, redirection and deception are implemented. In the collection phase, four types of attacking information are gathered for cross analysis to build up the blacklist. Upon the blacklist being developed, two redirection techniques, layer-2 and layer-3 redirection, are employed to dynamically transmit incoming traffic to a production or a deception server in the redirection phase. Finally, the deception server could transparently capture the attacking behaviors in the deception phase. With honeyanole, we can effectively prevent honeypot deployment from hunting, build an early warning system, and enhance the system defense.\n",
      "https://ieeexplore.ieee.org/abstract/document/5930083/\n",
      "Honeypot is a prominent technology that helps us learn new hacking techniques from attackers and intruders. The much information from multiple Honeypot servers, the more appropriate signatures we can generate. To ease the administrator to manage and monitor trace files from multiple Honeypot servers that are distributed in various locations at the same time, in this paper we design and implement a prototype of log management server to automatically and periodically collect log files from them. Information reported by each Honeypot server will be sent in secure manner to the log management server. The log management server then parses the information into the database server, where users can search for specific information through the web interface, such as searching based on one or two Honeypot servers. Moreover, the geographical distribution of attackers is visualized in the world map by utilizing the WHOIS database and GeoPlot software.\n",
      "https://ieeexplore.ieee.org/abstract/document/7890056/\n",
      "Since honeypots first appeared as an advanced network security concept they suffer from poor deployment and maintenance strategies. State-of-the-Art deployment is a manual process in which the honeypot needs to be configured and maintained by a network administrator. In this paper we present a method for a dynamic honeypot configuration, deployment and maintenance strategy based on machine learning techniques. Our method features an identification mechanism for machines and devices in a network. These entities are analysed and clustered. Based on the clusters, honeypots are intelligently deployed in the network. The proposed method needs no configuration and maintenance and is therefore a major advantage for the honeypot technology in modern network security.\n",
      "https://ieeexplore.ieee.org/abstract/document/7814970/\n"
     ]
    },
    {
     "name": "stdout",
     "output_type": "stream",
     "text": [
      "Internet technology today is not free from many problems or security holes. This security holes could be exploited by an unauthorized person to steal important data. The case of the attacks occurred because the party that was attacked also did not realize the importance of network security to be applied to the system. Honeypot is a system that is designed to resemble the original production system and is made with the intention to be attacked or compromised. In this research, Cubieboard implemented using low interaction honeypot as a decoy to attract attackers. The result of this research is a low interaction honeypot implemented on embedded system with the form of Cubieboard that can emulates security vulnerabilities such as directory buster brute force, LFI, and RFI with 100% success rate, but still could not emulates SQL Injection vulnerability. One of the result of stress test with 773 samples, obtained average time of 5275 ms, deviation 2067 ms, sample throughput 367.012 per minute, and with median 5381 ms. The stress test is conducted with 50 threads and 10 ramp-ups per second.\n",
      "https://ieeexplore.ieee.org/abstract/document/7083380/\n",
      "Server honey pots are computer systems that hide in a network capturing attack packets. As the name goes, server honey pots are installed in server machines running a set of services. Enterprises and government organisations deploy these honey pots to know the extent of attacks on their network. Since, most of the recent attacks are advanced persistent attacks there is much research work going on in building better peripheral security measures. In this paper, the authors have deployed several honey pots in a virtualized environment to gather traces of malicious activities. The network infrastructure is resilient and provides much information about hacker's activities. It is cost-effective and can be easily deployed in any organisation without specialized hardware.\n",
      "https://ieeexplore.ieee.org/abstract/document/8074855/\n",
      "Recently, advances in cyber-physical systems and IoT led to an increase in devices connected to the internet. This rise of functionality also comes with an increased attack surface for cyber criminals. A proven method for forensic investigations of trends and developments in crimes conducted in the virtual world are honeypots. We set up a medium interaction honeypot offering telnet and SSH services. With this honeypot we captured data from attack sessions. This data was used for statistical and behavioural analysis, such as distributions of attacks and different attacker IPs, originating countries, employed anonymisation services, skill level of an adversary and commonly targeted embedded devices. Furthermore, machine learning techniques that are capable of identifying unique types of sessions based on issued commands and provided credentials are presented in this work. There are strong indicators that most of the traffic captured during our research is caused by botnet activities, which corresponds to findings of different research activities.\n",
      "https://ieeexplore.ieee.org/abstract/document/6936499/\n",
      "One of the most common security attack for web application is SQL injection. It is an attack to acquire access to application's database through injection of script or malicious query attributes. This attack can be executed in any page of web application which interacts with database. SQL injection could be more dangerous if the victim was an enterprise system such as online banking. Many methods have been researched and developed to prevent SQL injection attacks. One of them is the use of a honeypot. This paper proposed a method for increasing system's capability to detect and prevent SQL injection attacks based on removal of SQL query attribute values and honeypot for trapping attackers. A honeypot is placed as decoy system to hide actual web server from attacker. Malicious queries from attackers will be sent to honeypot while normal queries will be sent directly to the real web server. Honeypot is also used to provide activity logging of each attack which can be used for further analysis. We play with Raspberry Pi because it is cheap and effective to be used as a honeypot. Due to its limited computational ability, we make cluster to improve its power. Based on conducted experiments, we could achieve up to 64% accuracy of SQL injection attack. Moreover, with the redirection, our honeypot could get more attack data to be analyzed.\n",
      "https://ieeexplore.ieee.org/abstract/document/5355040/\n",
      "SQL injection attacks continue to be a major problem for Web applications. We investigate design considerations for an application layer honeypot to attract and learn about SQL injection attacks. The honeypot responds with indications of vulnerability leading attackers ultimately to disinformation that could be useful to track them. The honeypot restricts attackers from escalating the attack to the operating system or launching attacks on other systems. The honeypot could emulate the appearance of common defenses against SQL injection in order to seem more genuine. Finally, we describe considerations to implement an experimental honeypot with honeyd.\n",
      "https://ieeexplore.ieee.org/abstract/document/5371448/\n",
      "With the fast development of WLAN, wireless intrusion prevention systems have recently become the research hotspot. In this paper, we first analyze the drawbacks of WLAN and indicate the primary 802.11-specific threats, then present the framework of the wireless IPS with an intelligent plan recognition and pre-decision engine using honeypot technology, especially illustrate the need for plan recognition in WLAN. By importing supporting degree of intrusion plan, this engine can predict the future attacks and directly respond to these actions. We design and implement an improved model for conducting plan recognition and making pre-decision. Experimental results showed that the plan recognition and pre-decision engine can not only improve detection and prevention performance but also reduce false positives evidently.\n",
      "https://ieeexplore.ieee.org/abstract/document/7014136/\n",
      "Monitoring communication networks and their traffic is of essential importance for estimating the risk in the Internet, and therefore designing suited protection systems for computer networks. Network and traffic analysis can be done thanks to measurement devices or honeypots. However, analyzing the huge amount of gathered data, and characterizing the anomalies and attacks contained in these traces remain complex and time consuming tasks, done by network and security experts using poorly automatized tools, and are consequently slow and costly. In this paper, we present an unsupervised method for classification and characterization of security related anomalies and attacks occurring in honeypots. This as automatized as possible method does not need any attack signature database, learning phase, or labeled traffic. This corresponds to a major step towards autonomous security systems. This paper also shows how it is possible from anomalies characterization results to infer filtering rules that could serve for automatically configuring network routers, switches or firewalls.\n",
      "https://ieeexplore.ieee.org/abstract/document/6296110/\n",
      "Mobile Ad hoc Networks (MANETs) having strikingly superior features also come with notable disadvantage and troubles and the most exigent amongst all being security related issues. Such an ringent network dexterously pave approach for the malicious nodes. Hence providing security is a tedious task. For such a dynamic environment, a security system which dynamically observes the attacker's plans and protect the highly sophisticated resources is in high demand. In this paper we present a method of providing security against wormhole attacks to a MANET by learning about the environment dynamically and adapting itself to avoid malicious nodes. We accomplish this with the assistance of Honeypot. Our method predicts the wormhole attack that may take place and protect the resources well-in advance. Also it cleverly deal with the attacker by using previous history and different type of messages to locate the attacker. Several experiments suggest that the system is accurate in handling wormhole attack.\n",
      "https://ieeexplore.ieee.org/abstract/document/7412090/\n"
     ]
    },
    {
     "name": "stdout",
     "output_type": "stream",
     "text": [
      "The number of devices connected to computer networks is increasing daily, and so is the number of network-based attacks. A honeypot is a system trap that is set to act against unauthorised use of information systems. The objective of this study was to survey the emergent trends in extant honeypot research with the aims of contributing to the knowledge gaps in the honeypot environment. The relevant literature was identified from a myriad of sources, such as books, journal articles, reports, et cetera. The findings suggest that honeypots are attracting the interest of researchers as a valuable security technique that can be implemented to mitigate network attacks and provides an opportunity to learn more about the nature of these attacks. Consequently a honeypot can be used as a research tool to gather data about network attacks.\n",
      "https://ieeexplore.ieee.org/abstract/document/6342030/\n",
      "This research presents an intrusion detection system t (IDS) with honeypot over distributed networks. The main objective is compare measuring the effectiveness of attacks between IDS and IDS with honeypot by unicast IP address attack and multicast IP address attack. These attack forms generating by NESSUS is a attack program via wire network and wireless network consists of Snort is a program that is used to detect intrusion and Honeyd to simulate a honeypot computer, which is installed on the system practical for Linux with a number of more 2 points (Sensor) to detect each program will be sent to the primary database for the analysis of experimental results. From this project will allow administrators to monitor and protect their networks more efficient organization.\n",
      "https://ieeexplore.ieee.org/abstract/document/6976452/\n",
      "Detailed introduction of the related knowledge of honeypot and intrusion detection technology. From the adaptability, effectiveness and scalability to a detailed analysis of the current intrusion detection system in the existing problems and the honeypot technology is applied to the advantages of the system in Intrusion Detection System, At the same time put forward a detection model and describes the main functions of the model and the system structure based on the intrusion honeypot technology.\n",
      "https://ieeexplore.ieee.org/abstract/document/5326356/\n",
      "Wireless sensor networks have become a technology for the new millennium with the endless possibilities for applications ranging from academic to military. These tiny sensors are deployed in open environments, where security for data or hardware cannot be guaranteed. Unfortunately due to the resource constraints, traditional security schemes cannot be applied. Therefore designing protocols that can operate securely using smart inherent features is the best option. In this paper, an efficient way of detecting an intruder using Honeypot and swarm intelligence is proposed. The Honeypot architecture strategically enables agents to track the intruders. This process of locating an intruder reduces the false alarm detection rate caused by denial-of-service attacks. A detailed analysis of the attack is captured to predict future attacks using pattern recognition. The proposed framework is evaluated based on accuracy and speed of intruder detection before the network is compromised. This process of detecting the intruder earlier helps learn his/her future attacks, but also a defensive countermeasure.\n",
      "https://ieeexplore.ieee.org/abstract/document/7409013/\n",
      "The main objective of this research is to integrate honeypot and IDS, which can generate and activate snort rule automatically based on the data sending by honeypot server. The new technic is present in this paper, honeypot will collect the data, send the data to IDS, and then IDS will evaluate and generate the rules automatically. Rule that has been made will be active to filter packets sent by the user on the network. We compare rule generated automatically with default rule in snort system for the same pattern. The performance of the proposed technique was evaluated by measuring the effectiveness of IDS server from the attacking.\n",
      "https://ieeexplore.ieee.org/abstract/document/7943186/\n",
      "Recently, the increase of interconnectivity has led to a rising amount of IoT enabled devices in botnets. Such botnets are currently used for large scale DDoS attacks. To keep track with these malicious activities, Honeypots have proven to be a vital tool. We developed and set up a distributed and highly-scalable WAN Honeypot with an attached backend infrastructure for sophisticated processing of the gathered data. For the processed data to be understandable we designed a graphical frontend that displays all relevant information that has been obtained from the data. We group attacks originating in a short period of time in one source as sessions. This enriches the data and enables a more in-depth analysis. We produced common statistics like usernames, passwords, username/password combinations, password lengths, originating country and more. From the information gathered, we were able to identify common dictionaries used for brute-force login attacks and other more sophisticated statistics like login attempts per session and attack efficiency.\n",
      "https://ieeexplore.ieee.org/abstract/document/4700327/\n",
      "In this paper we present empirical results and speculative analysis based on observations collected over a two month period from studies with two high interaction honeynets, deployed in a corporate and an SME (small to medium enterprise) environment, and a distributed honeypots deployment. All three networks contain a mixture of Windows and Linux hosts. We detail the architecture of the deployment and results of comparing the observations from the three environments. We analyze in detail the times between attacks on different hosts, operating systems, networks or geographical location. Even though results from honeynet deployments are reported often in the literature, this paper provides novel results analyzing traffic from three different types of networks and some initial exploratory models. This research aims to contribute to endeavours in the wider security research community to build methods, grounded on strong empirical work, for assessment of the robustness of computer-based systems in hostile environments.\n",
      "https://ieeexplore.ieee.org/abstract/document/8215724/\n",
      "Criminal activity in the Internet is becoming more sophisticated. Traditional information security techniques hardly cope with recent trends. Honeypots proved to be a valuable source of threat intelligence. In this work several Honeypots are combined into a Honeynet and observed exploitation attempts. The Honeynet consists of six Honeypots and was operated for 222 days. 12 million exploitation attempts were captured. The captured data is examined and evaluated. Several hypotheses are proposed and analyzed. Dependencies and distribution within the data are identified and quantified. Investigated features are: Temporal and spatial distribution, attacked protocols, involved autonomous systems and the employed dictionaries.\n",
      "https://ieeexplore.ieee.org/abstract/document/4554140/\n",
      "DDOS attacks generate flooding traffic from multiple sources towards selected nodes and cause obstruction in flow of legitimate information within a network. If the victim node is the server at ISP level requiring fast information processing, the entire network operation stops. We use various lines of honeypot based defense against such attacks. The first line of defense detects the presence of attacks. The second line of defense identifies and tags attack flows in real time. The work in this paper concentrates on the third line of defense, where a model for honeypot based routing has been proposed in response to identified attack flows. We propose the automatic generation of adequate server nodes to service client requests and honeypots to interact with attackers in contained manner. The judicious mixture of servers and honeypots at different time intervals provide stable network functionality at ISP level. We validate the effectiveness of the approach with modeling on Internet type topology and simulation in ns-2 on a Linux platform.\n",
      "https://ieeexplore.ieee.org/abstract/document/8098608/\n"
     ]
    },
    {
     "name": "stdout",
     "output_type": "stream",
     "text": [
      "A honeypot is a type of security facility deliberately created to be probed, attacked, and compromised. It is often used for protecting production systems by detecting and deflecting unauthorized accesses. It is also useful for investigating the behavior of attackers, and in particular, unknown attacks. For the past 17 years plenty of effort has been invested in the research and development of honeypot techniques, and they have evolved to be an increasingly powerful means of defending against the creations of the blackhat community. In this paper, by studying a wide set of honeypots, the two essential elements of honeypots-the decoy and the captor-are captured and presented, together with two abstract organizational forms-independent and cooperative-where these two elements can be integrated. A novel decoy and captor (D-C) based taxonomy is proposed for the purpose of studying and classifying the various honeypot techniques. An extensive set of independent and cooperative honeypot projects and research that cover these techniques is surveyed under the taxonomy framework. Furthermore, two subsets of features from the taxonomy are identified, which can greatly influence the honeypot performances. These two subsets of features are applied to a number of typical independent and cooperative honeypots separately in order to validate the taxonomy and predict the honeypot development trends.\n",
      "https://ieeexplore.ieee.org/abstract/document/6378948/\n",
      "Malware is a serious threat for modern information technology. It is therefore vital to be able to detect and analyze such malicious software in order to develop contermeasures. Honeypots are a tool supporting that task - they collect malware samples for analysis. Unfortunately, existing honeypots concentrate on malware that spreads over networks, thus missing any malware that does not use a network for propagation. A popular network-independent technique for malware to spread is copying itself to USB flash drives. In this article we present Ghost, a new kind of honeypot for such USB malware. It detects malware by simulating a removable device in software, thereby tricking malware into copying itself to the virtual device. We explain the concept in detail and evaluate it using samples of wide-spread malware. We conclude that this new approach works reliably even for sophisticated malware, thus rendering the concept a promising new idea.\n",
      "https://ieeexplore.ieee.org/abstract/document/6542540/\n",
      "The vastness of IPv6 address space and rapid spread of its deployment attract us to usage of IPv6 network. Various types of devices, including embedded systems, are ready to use IPv6 addresses and some of them have already been connected directly to the Internet. Such situation entices attackers to change their strategies and choose the embedded systems as their targets. We have to deploy various types of honey pots on IPv6 network to trace his activities and infer his objective. Huge address space and wide variety of devices, however, suggest the limitation of conventional honey pots. In this paper, we propose a system that dynamically assigns an address to a honey pot by detecting an access to an unassigned address. We also present our strategy against IPv6 address scans by making honey pots collaborate each other.\n",
      "https://ieeexplore.ieee.org/abstract/document/5136631/\n",
      "In this paper we propose a new architecture, which is composed of distributed cooperative agents to reduce the false alarm ratio of the intrusion detection systems (IDS) in a twofold contribution. The first contribution lies in reducing the false alarm rate of the attack detection in an agent-based architecture by using honeypot network as the closer level of investigation. The connection is retrieved to the original destination in case of false alarm recognition, while the actions are hidden to the user. Such a scheme significantly decreases the alarm rate and provides a higher performance of IDS. The second contribution applies the game theoretic analysis in the sense that the contributing agents are led to perform the best they could in order to achieve their goals. The Shaply value is computed to find the actual contribution of each agent in the coalition he belongs to. The equilibrium point is found and consequently the winner coalition is formed. In this paper the architecture of the proposed system is described, a theoretical analysis of agents' behavior is given and its possible extensions are explained.\n",
      "https://ieeexplore.ieee.org/abstract/document/7033844/\n",
      "Advanced Technology in the area of intrusion detection is the Honeypot technology that unlike common IDS s tends to provide the attacker with all the necessary resources needed for a successful attack. Honeypot provide a platform for studying the methods and tools used by the intruders, thus deriving their value from the unauthorized use of their resource. To provide scalable, early warning and analysis of new Internet threats like worms or automated attacks, we propose globally distributed, hybrid monitoring model that can capture and analyze new vulnerabilities and exploits as they occur. To achieve this, our Model increases the exposure of high-interaction honeypots to these threats by employing low-interaction honeypots as frontend content filters. Host-based techniques capture relevant details such as packet payload of attacks while network monitoring provides wide coverage for quick detection and assessment. To reduce the load of the backends, we filter prevalent content at the network frontends and use a novel handoff mechanism to enable interactions between network and host components.\n",
      "https://ieeexplore.ieee.org/abstract/document/5958501/\n",
      "This paper describes a case study of Honey pot deployment in an organizational network. As per Wikipedia “honey pot is a trap that is set to detect, deflect, or in some manner counteract attempts at unauthorized use of information systems”. These traps could be any digital resource ranging from a single computer to a network of such computers or a network application that appears to be a part of organizational network resources but is actually a fake resource with no production traffic. Further these resources are closely monitored and the traffic to and from these resources is well under the control of the administrator. In the experiment performed in this paper, such a trap is laid in the form of a low interaction honeypot honeyd in the perimeter security of an organizational network. The results of deployment are presented and further various props and cons of such deployments are brought about.\n",
      "https://ieeexplore.ieee.org/abstract/document/5194832/\n",
      "This paper enlarges previous works of the authors related to the security of a high-interaction honeypot. The challenge is to have a Security Property Language (SPL) for defining the required properties for controlling the activities between processes and resources. That language must authorize the definition of security properties related to confidentiality, integrity and availability. Moreover, that SPL must be able to enforce the security of target Operating Systems. It is an open problem not only regarding the security of Operating Systems but also regarding the security of high-interaction honeypots. That paper shows that existing approaches really fail to manage a large range of security properties. The first reason is that a SPL is really missing to express and enforce a large set of security properties. The second reason is that protection and detection approaches fail to manage a large set of security properties. Our paper proposes PIGA-Protect a new approach to control the system calls in order to guarantee the requested security properties.\n",
      "https://ieeexplore.ieee.org/abstract/document/5489486/\n",
      "It is an important factor for the honeypot decoy system to accurately analyze on intrusion information and precisely locate them. As there are some conflict and cooperation relationship among the collected data by honeypot system, it needs to fuse the honey information so that normal decision can be made for intrusions. The paper regarded the fusion process of honeypot information as game process among information, so as to integrate theory game theory and information fusion, then the optimal security decision can be arrived. The research uses a new approach to fuse the multisource information, which plays certain role on early warning of network.\n",
      "https://ieeexplore.ieee.org/abstract/document/4456010/\n"
     ]
    },
    {
     "name": "stdout",
     "output_type": "stream",
     "text": [
      "This paper describes the concept and implementation of the \\\"E-mail honeypot system\\\" (EHS) which is designed to automatically receive, categorize, analyze and archive unsolicited mails (spam). An evaluation of the various system components and the overall system in a lab environment and in a field test confirms the feasibility of the EHS concept with respect to functionality, detection accuracy and performance. In addition, some results from a field test running for over a year are provided exemplifying the potential of the EHS to provide a statistical evaluation of spam activities as well as to provide some insight into spam mechanisms.\n",
      "https://ieeexplore.ieee.org/abstract/document/4772623/\n",
      "DDOS attacks generate flooding traffic from multiple sources towards selected nodes and cause obstruction in flow of legitimate information within a network. If the victim node is a server in DMZ requiring fast information processing, the entire network operation stops. We use various lines of honeypot based defence against such attacks. The first line of defence detects the presence of attacks and tags attack flows in real time. The work in this paper concentrates on the next line of defence, where a model for autonomous dynamic honeypot routing has been proposed in response to identified attack flows. We propose the automatic generation of adequate server nodes to service client requests and honeypots to interact with attackers in contained manner. The judicious mixture of servers and honeypots in DMZ at different time intervals provide stable network functionality even in the attacked network. We validate the effectiveness of the approach with modelling on Internet type topology and simulation in ns-2 on a Linux platform.\n",
      "https://ieeexplore.ieee.org/abstract/document/7527817/\n",
      "Honeypots, i.e. networked computer systems specially designed and crafted to mimic the normal operations of other systems while capturing and storing information about the interactions with the world outside, are a crucial technology into the study of cyber threats and attacks that propagate and occur through networks. Among them, high-interaction honeypots are considered the most efficient because the attacker (whether automated or not) perceives realistic interactions with the target machine. In the case of automated attacks, propagated by malware, currently available honeypots alone are not specialized enough to allow the analysis of their behaviors and effects on the target system. The research presented in this paper shows how high-interaction honeypots can be enhanced by powering them with specific features that improve the reverse engineering activities needed to effectively analyze captured malicious entities.\n",
      "https://ieeexplore.ieee.org/abstract/document/7346907/\n",
      "The emerge of sophisticated attackers and malware that target Industrial Control System (ICS) suggests that novel security mechanisms are required. Honeypots, can act as an additional line of defense, by providing early warnings for such attacks. We present a mobile ICS honeypot, that can be placed in various network positions to provide security administrators an on-the-go security status of their network. We discuss our system, its merits in comparison to other honeypots, and provide preliminary results towards a large-scale evaluation.\n",
      "https://ieeexplore.ieee.org/abstract/document/6064371/\n",
      "Web services are increasingly becoming an integral part of next-generation web applications. A Web service is defined as a software system designed to support interoperable machine-to-machine interaction over a network based on a set of XML standards. This new architecture and set of protocols brings new vulnerabilities that can be exploited by attackers. To prevent and detect such attacks, several security techniques are available like authentication and encryption mechanisms, firewalls and intrusion detection systems (IDS). Nevertheless these security methods encounter some problems, especially when dealing with new attacks. Relying on additional security principles seems to be important to well protect Web services. In this paper, we propose using honeypots to detect and study attacks against Web services. Honeypots are used to learn new techniques, tools and motivations of hackers to better protect the production systems against attacks. Our solution (WS Honeypot) is to deploy a honeypot as a web service application. This honeypot captures all request messages and analyses them by using machine learning techniques in order to detect and study attacks.\n",
      "https://ieeexplore.ieee.org/abstract/document/8051259/\n",
      "Historically, robotics systems have not been built with an emphasis on security. Their main purpose has been to complete a specific objective, such as to deliver the correct dosage of a drug to a patient, perform a swarm algorithm, or safely and autonomously drive humans from point A to point B. As more and more robotic systems become remotely accessible through networks, such as the Internet, they are more vulnerable to various attackers than ever before. To investigate remote attacks on networked robotic systems we have leveraged HoneyPhy, a physics-aware honeypot framework, to create the HoneyBot. The HoneyBot is the first software hybrid interaction honeypot specifically designed for networked robotic systems. By simulating unsafe actions and physically performing safe actions on the HoneyBot we seek to fool attackers into believing their exploits are successful, while logging all the communication to be used for attacker attribution and threat model creation. In this paper, we present the HoneyBot and discuss our proof of concept implementation. Our HoneyBot prototype swaps between physical actuation and using prebuilt models of sensor behavior for simulation at runtime given user input commands.\n",
      "https://ieeexplore.ieee.org/abstract/document/6113637/\n",
      "In order to solve the problems that IDSs and firewalls cannot efficiently detect new SQL injection and too much time is wasted when the security personnel reads log files to analyze attacks, we proposed and implemented a high-interaction web honey pot system for SQL injection analysis. By (i)modifying PHP extension for MySQL to intercept data-base requests and (ii)adopting exception based and signature based detection techniques, the system can generate the corresponding attack graphs to solve problems above. For illustration, SQL injection attack examples are utilized to show the performance of the honey pot system. The results show that the honey pot system can intercept all database requests and increase the efficiency of SQL injection analysis with the attack graphs. This system provides an efficient and timely detection on the new SQL injection and helps security personnel quickly analyzing the new SQL injection with the attack graph.\n",
      "https://ieeexplore.ieee.org/abstract/document/6478572/\n",
      "The paper firstly analyzes the limitation of traditional defense methods, including the firewall and the IDS. Then the paper discusses the traditional honeypot system in detail. Unfortunately, the traditional honeypot is a passive active defense mechanism in nature, and could be unfavorable for cyber defense. Inspired by the mimetic phenomenon of the nature, we introduce the mimicry concept into the network defense, define the concept of protective coloration and warning coloration for cyber defense, and then formalize a mimicry honeypot model, which could perceive and adaptive the change of the network service and perform better camouflage. Several important issues are discussed in this paper. So far as we know, this is the first paper about the mimicry honeypot.\n",
      "https://ieeexplore.ieee.org/abstract/document/7069104/\n",
      "The number of users of VoIP services is increasing every year. Consequently, VoIP systems get more attractive for attackers. This paper describes the implementation of a low interaction honeypot for monitoring illegal activities in VoIP environments. The honeypot operated during 92 days and collected 3502 events related to the SIP protocol. The analysis of the results allows understanding the modus operandi of the attacks targeted to VoIP infrastructures. These results may be used to improve defense mechanisms such as firewalls and intrusion detection systems.\n",
      "https://ieeexplore.ieee.org/abstract/document/8622988/\n"
     ]
    },
    {
     "name": "stdout",
     "output_type": "stream",
     "text": [
      "Dynamic fuzzy rule interpolation (D-FRI) utilises a transformation-based knowledge interpolation mechanism to maintain a concurrent rule base according to the requirements of a given application problem. This feature makes it well-suited for network security applications where the perpetual change in the network conditions and traffic is unavoidable. Honeypots have become an important part of the security work of any organisation, gathering detailed information about an attack and attackers, in an effort to design the most robust protection policy. A honeypot deceives attackers to believe that they are interacting with a real system, thereby hiding its identity. Fingerprinting is one of the biggest threats to any honeypot allowing an attacker to discover the identity of the honeypot since once identified, its usefulness is limited. A number of methods have been proposed to fingerprint a honeypot preventing it from functioning; yet, it is a very challenging task to detect fingerprinting in real-time. This paper presents an intelligent and dynamic honeypot based on the D-FRI approach. The resulting system is capable of detecting certain types of fingerprinting threat in the absence of matching rules, while being able to learn and maintain a dynamic rule base for more accurate identification of possible fingerprinting threats based on the current network traffic conditions.\n",
      "https://ieeexplore.ieee.org/abstract/document/7014753/\n",
      "With increase in the awareness of security programming, the number of vulnerabilities for software on a machine have subsequently decreased. Exploiting these few vulnerabilities if present, require attackers to use their skills and efforts to exploit various services. Firewalls, access control lists (ACLs), intrusion detection and prevention system deployed in an organization are able to block and mitigate direct and known attacks which are used by attackers as they are related to inbound traffic. Outbound traffic are allowed in organizations since users are allowed at least to download mails, visit external web servers. A vulnerable application requesting traffic from an externally hosted server is exploited and user accessing the traffic transfers their controls to attackers listening remotely. To detect this kind of behavior, this paper focuses on deploying high interaction honeypot system coupled with intrusion detection system on different operating system flavors which work as clients. Clients collect URLs by specifically crafted web links crawler. These URLs are then visited by application needed to visit these URLs. Finally, if these URLs are malicious and exploit the application software, an alert is triggered by signature based intrusion detection system deployed on the machine. Based on these alerts, URLs are stored in a black list of malicious URLs. We introduce design and implementation of this system in this paper.\n",
      "https://ieeexplore.ieee.org/abstract/document/7452093/\n",
      "In this paper the concept of external appliance as component of honeypot in wireless network is suggested as based on particular computing instance. Also paper suggests approach to implementation of complex Intrusion Detection System (IDS) - Router - Honeypot. Requirements to IDS rules design are formulated by authors.\n",
      "https://ieeexplore.ieee.org/abstract/document/4299373/\n",
      "The objective of context honeypot is to identify a probable privacy violator before he actually succeeds in capturing desired precious information. We believe that in the environment of robust implementation of privacy policy, privacy breaches can occur only through masquerading. Success of context honeypot depends on efficient luring (by using lure messages) of probable privacy violator. Lure messages are built by using real and fake data in such a way that the probable violator remains oblivious of being lured. In this paper, we propose a lure model and an architecture for generating lure messages.\n",
      "https://ieeexplore.ieee.org/abstract/document/7973617/\n",
      "Honeypots are used as a security measure both to divert the attention of a potential attackers intentions and to reveal the attacker since the only reason someone would interact with honeypots is if they are looking for a vulnerable target. Honeypots emulate only a part of the machine they are supposed to represent and contain no valuable data. ICS (Industrial Control System) is a term that is used for a system that monitors industrial plants, distributed control systems or other systems that mostly contain PLCs (Programmable Logic Controllers). Conpot is an open source honeypot that emulates PLC devices so it can be used in ICSs. However, Conpot can not emulate complex honeypot networks. The aim of this project is to make a tool that can be used to design a honeypot network which emulates an ICS. A network designed with that tool will be simulated as a part of this project and the data collected during the simulation will be analyzed.\n",
      "https://ieeexplore.ieee.org/abstract/document/8004194/\n",
      "Honeypots have been largely used to capture and investigate malicious behavior through deliberately sacrificing their own resources in order to be attacked. Hybrid honeypot architectures consisting of frontends and backends are widely used in the research area, specially due to the benefits of their high scalability and fidelity for detailed attacking data collection. A hybrid honeypot system often needs a facility aimed to tightly control the network traffic, for purposes such as redirecting the traffic from the frontends to the backends for in-depth attack analysis. However, the current traffic redirection approaches, particularly the TCP connection handover mechanisms, are not stealthy and they can be easily detected by attackers. This paper proposes an SDN based network data controller for hybrid honeypot systems that uses a transparent TCP connection handover mechanism and provides a traffic filtering approach based on the Snort alert functionality. The controller is implemented as an application based on the open-source Ryu SDN framework. It allows the users to configure their own network data control rules, which based on the Snort alert messages will forward or redirect the traffic to the corresponding honeypots. The experiments validate the proposed mechanism and the testing results show that the controller can efficiently perform the stealthy TCP connection handover as well.\n",
      "https://ieeexplore.ieee.org/abstract/document/7724682/\n",
      "Attacks on the internet keep on increasing and it causes harm to our security system. In order to minimize this threat, it is necessary to have a security system that has the ability to detect zero-day attacks and block them. “Honeypot is the proactive defense technology, in which resources placed in a network with the aim to observe and capture new attacks”. This paper proposes a honeypot-based model for intrusion detection system (IDS) to obtain the best useful data about the attacker. The ability and the limitations of Honeypots were tested and aspects of it that need to be improved were identified. In the future, we aim to use this trend for early prevention so that pre-emptive action is taken before any unexpected harm to our security system.\n",
      "https://ieeexplore.ieee.org/abstract/document/6544422/\n",
      "Our contribution through this paper is to provide a novel approach for securing hosts inside the home network using predictive attack detection and honeypots. We have given a unique method to secure hosts inside the home network. After securing these hosts we redirect attacker traffic to honeypots for further analysis. Our system also offers techniques to roam an attacker over multiple installed honeypots. This in turn helps to load share the attack traffic between honeypots and to record maximum number of attacks. This method also helps to address key problem of determining honeypot location for maximum attack exposure.\n",
      "https://ieeexplore.ieee.org/abstract/document/4681109/\n",
      "The scale-free networks perform obvious frangibility under intentional attack. In order to study the invulnerability of scale-free networks under intentional attack, we bring forwards to applying \\\"honeypot\\\" which is a new technology of Internet security to scale-free networks. Firstly, this paper give a brief introduction to honeypot and its application; then presents a model of the invulnerability of scale-free networks based on the inveiglement of \\\"honeypot\\\" and the characters of scale-free networks in topology, it introduces how to apply \\\"honeypot\\\" to scale-free networks, how to dig out backbone network effectively and how to design and optimize network structure over deploying a few \\\"honeypot node\\\" in the backbone network; at last, we validate the validity and correctness of the model over random simulated experiment and find that deploy \\\"honeypot node\\\" according to the model can improve the invulnerability of the scale-free networks effectively.\n",
      "https://ieeexplore.ieee.org/abstract/document/6514213/\n"
     ]
    },
    {
     "name": "stdout",
     "output_type": "stream",
     "text": [
      "With the growing sophistication of computer worms, information security has become a prime concern for individuals, community and organizations. Traditional signature based IDS, though effective for known attacks but failed to handle the unknown attack promptly. This paper describes a novel honeypot system which capture worm based on their characteristics of self replication. We introduce combination of unlimited and limited outbound connections to capture different payload of single or multiple worms. The proposed system isolate the suspicious traffic and able to effectively control the malicious traffic and capture most useful information regarding the worm's activities, without attacker's knowledge. Our system will be used for critical study of structure and behavior of most sophisticated worms and then forwards the necessary input to Signature Generation Module for automatically generating signature of unknown worms. Our attempt is to generate signature of unknown especially polymorphic worms with low false positive and high coverage. Our system is able to enhance the capability of IDS signature library and increases the probability of detecting most variant of unknown worms.\n",
      "https://ieeexplore.ieee.org/abstract/document/6480993/\n",
      "Computer system security is one of the most popular and the fastest evolving Information Technology (IT) areas. Protection of information access, availability and data integrity represents the basic security characteristics desired on information sources. Any disruption of these properties would result in system intrusion and the related security risk. Advanced decoy based technology called Honeypot has a huge potential for the security community and can achieve several goals of other security technologies, which makes it almost universal. Paper is devoted to sophisticated hybrid Honeypot with autonomous feature that allows to, based on the collected system parameters, adapt to the system of deployment. By its presence Honeypot attracts attacker by simulating vulnerabilities and poor security. After initiation of interaction Honeypot will record all attacker activities and after data analysis allows improving security in computer systems.\n",
      "https://ieeexplore.ieee.org/abstract/document/7910572/\n",
      "This article observes the possibility of protection network resources from malicious attacks using traps that simulate SSH service. There are overviewed main types of attacks, analyzed existing software solutions, its basic working principles and opportunities for further improvement. In addition, there is described author's solution, which can increase the attractiveness of SSH honeypot working under Ubuntu OS.\n",
      "https://ieeexplore.ieee.org/abstract/document/5591984/\n",
      "The network honeypot technology is a new type of proactive defense technique in the network information security. This paper introduces the idea of honeypot in the network to the field of management and explores the concepts and functions of management honeypot. Through the comparison between such existing mature technologies as flexible management and 6 Sigma management and management honeypot, it draws a preliminary conclusion that management honeypot has some comparative advantages. Meanwhile, the paper discusses the application of the ideas of management honeypot to the process in the daily management, new problems management and after-event management. Accordingly, it is assumed that the management honeypot is of significant value in the management activities.\n",
      "https://ieeexplore.ieee.org/abstract/document/8284180/\n",
      "Honeypots are servers or systems built to mimic critical parts of a network, distracting attackers while logging their information to develop attack profiles. This paper discusses the design and implementation of a honeypot disguised as a REpresentational State Transfer (REST) Application Programming Interface (API). We discuss the motivation for this work, design features of the honeypot, and experimental performance results under various traffic conditions. We also present analyses of both a distributed denial of service (DDoS) attack and a cross-site scripting (XSS) malware insertion attempt against this honeypot.\n",
      "https://ieeexplore.ieee.org/abstract/document/4580013/\n",
      "Honeypots have been studied in the network domain for detection and information collection against external threats in the past few years. They lure a potential attacker by simulating resources having vulnerabilities and observing the behavior of a potential attacker to identify him before a damaging attack takes place. A lot of work has been done in the area of privacy and security in databases. Though the number of attacks and complexity for database attacks are increasing day by day, there has been no attempt to design honeypots for privacy enforcing databases. The use of honeypots for databases would help in confirming the suspicion (malafide intention) of a suspicious user without leaking the target information (information which would fulfill the malafide intention) to the attacker. We propose a framework for database honeypots for certain types of attacks in privacy context. The proposed honeypots for databases are termed as context honeypots.\n",
      "https://ieeexplore.ieee.org/abstract/document/6902760/\n",
      "The security of computer systems and networks is severely threatened today by the combination of novel attack patterns and high traffic volumes. Together, this often exceeds the capabilities of purely software-based network security systems. As an alternative, hardware acceleration has been employed, e.g., for performing deep-packet inspection and pattern matching as well as general packet-header processing. While such implementations, capable of handling lower protocol layers, have been extensively studied in research and industry, their extension to higher communication layers has only rarely been addressed. Such capabilities, including the application level (OSI Layer 7), are the focus of this work. We present the NetStage platform, employing reconfigurable computing for high-throughput low-latency network processing, as well as associated development tools that allow networking domain experts to easily customize the system. As a use-case, we consider the realization of high-performance attack-resilient honeypots based on NetStage. To this end, we introduce the Malacoda language, its programming tools, and the generated target microarchitecture. We then evaluate the performance of Malacoda-generated vulnerability emulation handlers running on the NetStage platform.\n",
      "https://ieeexplore.ieee.org/abstract/document/5437712/\n",
      "Honeypots are decoys designed to trap, delay, and gather information about attackers. All the previous work in the field was related mainly to intrusion detection system, but in this research work, the highlight is more focused on the novel approach of creation of a Honeypot schema which is powered by intelligence along with the design of classifier. The output generated by the classifier generates a dynamic list of attacks, which are then queued in the proposed Honeypot architecture built with neural network to understand various approach of behavior and patterns of the attacker. The network administrator collects all such relevant information over the network itself allowing the inbound network connection from the attacker to do so and the system creates a hybrid framework to prevent the probability of vulnerable and hostile situation over the network even before the attack event is performed by the attacker.\n",
      "https://ieeexplore.ieee.org/abstract/document/8628775/\n",
      "Dynamic Fuzzy Rule Interpolation (D-FRI) offers a dynamic rule base for fuzzy systems which is especially useful for systems with changing requirements and limited prior knowledge. This suggests a possible application of D-FRI in the area of network security due to the volatility of the traffic. A honeypot is a valuable tool in the field of network security for baiting attackers and collecting their information. However, typically designed with fewer resources they are not considered as a primary security tool for use in network security. Consequently, such honeypots can be vulnerable to many security attacks. One such attack is a spoofing attack which can cause severe damage to the honeypot, making it inefficient. This paper presents a vigilant dynamic honeypot based on the D-FRI approach for use in predicting and alerting of spoofing attacks on the honeypot. First, it proposes a technique for spoofing attack identification based on the analysis of simulated attack data. Then, the paper employs the identification technique to develop a D-FRI based vigilant dynamic honeypot, allowing the honeypot to predict and alert that a spoofing attack is taking place in the absence of matching rules. The resulting system is capable of learning and maintaining a dynamic rule base for more accurate identification of potential spoofing attacks with respect to the changing traffic conditions of the network.\n",
      "https://ieeexplore.ieee.org/abstract/document/7165951/\n"
     ]
    },
    {
     "name": "stdout",
     "output_type": "stream",
     "text": [
      "The data processing capabilities of MapReduce systems pioneered with the on-demand scalability of cloud computing have enabled the Big Data revolution. However, the data controllers/owners worried about the privacy and accountability impact of storing their data in the cloud infrastructures as the existing cloud computing solutions provide very limited control on the underlying systems. The intuitive approach - encrypting data before uploading to the cloud - is not applicable to MapReduce computation as the data analytics tasks are ad-hoc defined in the MapReduce environment using general programming languages (e.g, Java) and homomorphic encryption methods that can scale to big data do not exist. In this paper, we address the challenges of determining and detecting unauthorized access to data stored in MapReduce based cloud environments. To this end, we introduce alarm raising honeypots distributed over the data that are not accessed by the authorized MapReduce jobs, but only by the attackers and/or unauthorized users. Our analysis shows that unauthorized data accesses can be detected with reasonable performance in MapReduce based cloud environments.\n",
      "https://ieeexplore.ieee.org/abstract/document/8105603/\n",
      "In Industrial Control System (ICS) networks, it is generally difficult to discover security threats from logs recorded in ICS devices, such as packets originated from malware-infected devices and evidence of the devices remotely controlled by attackers. This is due to the fact that ICS devices output logs not for detecting security threats but simply for recording operation history. Some researchers have suggested placing honeypots within ICS networks to observe packets from attackers in order to detect threats. In the research for this paper, the suggested method was further improved so that it responds to packets reaching the honeypots and collects information of the attack sources. Previous analysis has revealed that machines infected with some known malware (e.g. Havex RAT - a Remote Access Tool) in ICS networks conduct scan activities against certain devices, and therefore the traceback honeypots are expected to identify infected devices out of such scans in an effective manner. Information about attack sources collected from the analysis can be utilised for proactive purposes, which could be useful in detecting or blocking certain communication to prevent further infection. This paper discusses methods of tracking attack sources using traceback honeypots.\n",
      "https://ieeexplore.ieee.org/abstract/document/8544408/\n",
      "Cybersecurity is becoming increasingly challenging due to escalating security attacks on networks. A honeypot system is an effective entrapment mechanism for collecting information about these attacks and attackers. Nonetheless, one of the biggest risks to the honeypot system is the possibility of being fingerprinted by an attacker. As a consequence of the fingerprinting, the identity of the honeypot system could be revealed or it could be transformed into a bot to attack others. Several efficacious methods are proposed to fingerprint the honeypot system or to prevent it. However, there is no method available that can identify and predict fingerprinting in real-time, to save the honeypot system. Therefore, this paper proposes a technique to identify and predict fingerprinting attacks on the honeypot system in real-time. This technique is based on the fingerprinting process which necessitates a series of events by the attacker and by analysing these events contemporaneously, it is feasible to identify and predict the fingerprinting attack on the honeypot system. For the development of this technique, a popular honeypot tool KFSensor and fingerprinting tools Nmap and Xprobe2 are utilised to collect fingerprint data relating to the honeypot system. This data is analysed to detect the various attack techniques used by popular fingerprinting tools to propose a solution.\n",
      "https://ieeexplore.ieee.org/abstract/document/5636261/\n",
      "This paper aims to find interested association rules, known as data mining technique, out of the dataset of downloading logs by focusing on the coordinated activity among downloading servers. The result of the analysis shows the association rules of the downloading servers and that of the malwares.\n",
      "https://ieeexplore.ieee.org/abstract/document/7935647/\n",
      "Today's Internet technology is not free from problems. Unfortunately, it is used by people who have no right to steal important data. The National ICT Training and Research Center (PUSTIKNAS) Ministry of Communication and Information Technology the Republic of Indonesia is one of the government agencies that often suffer experimental intrusion by outsiders. One solution is to implement a honeypot system that can be used to improve the security of the Internet network and can detect intrusion attempts or attacks. A honeypot system with a Modern Honey Network (MHN) has been developed to make deployment and management easier and to make the honeypot more secure. The honeypots used in this study are the Kippo, Glastopf, Dionaea honeypots. With testing of the honeypot system in the form of an intrusive attack, it can be concluded that the honeypot system managed to outwit the attacker by opening ports on a server that turned the port into a hoax and was cleared. In addition, the suspicious activity was recorded and the attacks detected.\n",
      "https://ieeexplore.ieee.org/abstract/document/7530590/\n",
      "Proliferation and mobility trends on digital devices has seen a significant realization of Bring Your Own Device (BYOD) which is a phenomenon that allows employees in an organizational enterprise network to access computing resources through their personal mobile devices irrespective of their location. This technology has enabled cost effectiveness in organizations through increased accessibility of digital devices in daily business activities. However, the development of this technology faces a number of security challenges due to lack of effective proactive security model with digital forensic capability that is able to plan and prepare before potential security incidents occur in an organization that has allowed BYOD. It is on this premise that the authors have proposed a generic Digital Forensic Readiness (DFR) model that uses honeypot technology to detect and trap potential security incidents. In this paper, therefore, a significant security model with DFR capability has been proposed. The model is aimed at harvesting, encrypting and digitally preserving potential digital evidence (PDE) based on the DFR processes and guidelines that have been highlighted in the ISO/IEC 27043: 2015 international standard for information technology, security techniques, incident investigation principles and processes. Finally, the proposed model is meant to reduce the effort required to conduct Digital Forensic Investigation (DFI) by capturing potential digital evidence and make it available when needed by digital forensic investigators which eventually saves cost and time. A generic DFR model for BYOD using honeypot technology is the main focus of this paper.\n",
      "https://ieeexplore.ieee.org/abstract/document/5276444/\n",
      "Shareware programs are susceptible to piracy. Various reverse engineering methods used to circumvent software-based protection employed by existing shareware programs were analysed in this paper to provide insight into their weaknesses. These weaknesses include easily reverse-engineered algorithms, algorithms that compare the valid key with the entered key in plain text in memory, algorithms that reveal the actual key in memory and single point of failure. Because shareware programs are generally inexpensive and are developed by small teams, it may not be practical for shareware developers to implement protection solutions that are prohibitive in terms of cost and effort. A honeypot approach that can be implemented without significant effort, aimed at prolonging the time taken to fully circumvent the protection is proposed and tested. It has the following properties - appears to be easily defeated, is unpredictable and stealthy, and is a machine-dependent algorithm.\n",
      "https://ieeexplore.ieee.org/abstract/document/6674409/\n"
     ]
    },
    {
     "name": "stdout",
     "output_type": "stream",
     "text": [
      "With the rapid spread of the Internet, information technologies (ITs) and inadequate basic security of computer systems, it is only a matter of time when the computer systems will be attacked after revealing its existing vulnerabilities and programme weak points. At present the presence of such a potential threat agitates a greater and greater interest in various possibilities for enhancing its security. Currently exerted defence system based on the use of firewall, antivirus software and Intrusion Detection System (IDS) represents a necessary minimum. This traditional approach to security of computer systems is primarily oriented to the defence against already existing threats. It is essential to adapt the security system to this trend as the current threats have much more aggressive forms. The use of decoy based security technology - Honeypot - represents an adequate form of defence. However, even this technology is not a “security panacea” as its 100% functionality is proportionally dependent on the specific installation process. This article is focused on the technology called Honeypot and the issue of implementation process of its autonomous version, which is able to create virtual Honeypots and thus rapidly increase a security level of distributed heterogeneous computer systems. The proposed autonomous Honeypot can be used in the educational process in computer security laboratories for demonstrating security, simulations of different types of attacks, as well as in monitoring, respectively in observation of behaviour of computer system during the attacks.\n",
      "https://ieeexplore.ieee.org/abstract/document/8628658/\n",
      "The proliferation of cyberattacks, their increase in complexity and therefore their resolution, has resulted in significant concern within the cybersecurity industry. A honeypot is a popular concealed tool used to entice attackers to disclose information about themselves. It is an effective tool provided that its identity is not revealed, however, a successful fingerprinting attack can reveal the honeypots identity; leading to possible devastating consequences, resulting in the imperative to detect such fingerprinting at the earliest opportunity. Several effective methods are available to prevent a fingerprinting attack; therefore, a real-time prediction method is highly desirable. Unfortunately, no technique is available to discover and predict a fingerprinting attack in real-time as it is difficult to isolate that attack from other attacks. Therefore, this paper proposes a technique to discover and predict fingerprinting attacks on the honeypot in real-time by using a Principal Components Analysis (PCA). As every fingerprinting attack requires a sequence of actions to collect sufficient information to generate a fingerprint, this proposed technique takes advantage of this requirement to gather its symptoms. Analysing several abnormalities in attributes of TCP, UDP and ICMP packets collected during the simulation of fingerprinting attacks, evaluating them based on popular attack techniques and empirical evidence. After selecting several targeted attributes based on the previous analysis, it performs a PCA to establish the most influential attributes by which a fingerprinting attack can be discovered and predicted accurately. Finally, it proposes a general model to predict the severity level of the fingerprinting attack on the honeypot.\n",
      "https://ieeexplore.ieee.org/abstract/document/8245158/\n",
      "This paper proposes software based malware capturing and detection method. Which implements an efficient malware capturing and detection method in honeypot environment. It includes collecting the logs from the network using honeypot system. It create incident table based on the logs, in the test case we are using metasploit frame work for attacking the honeypot system through LibEmu manually. In the metasploit there are thousands of malicious payloads are available, using the payloads we can exploit the vulnerabilities present in the services on the honeypot.\n",
      "https://ieeexplore.ieee.org/abstract/document/7223158/\n",
      "This paper starts with the presentation of results from an IPv6-darknet experiment that we conducted during summer 2012. The experiment indicates that attackers are gaining interest in IPv6 networks and appropriate security tools need to be readied. Therefore, we propose HoneydV6, a low-interaction IPv6 honeypot that can simulate entire IPv6 networks and which may be utilized to detect and analyze IPv6 network attacks. Our implementation extends the well-known low-interaction honeypot Honeyd. To the best of our knowledge, this is the first low-interaction honeypot which is able to simulate entire IPv6 networks on a single host. The huge IPv6 address spaces requires new approaches and concepts in order to enable attackers to find and exploit a honeypot. We increase the chance for an attacker to find a target host in our IPv6 honeypot by reacting to the attacker's requests with the dynamic generation of new IPv6 host instances in the honeynet.\n",
      "https://ieeexplore.ieee.org/abstract/document/7389693/\n",
      "With network getting progressed, it is very crucial for us to guard the information that we have. One of these methods is the honeypot which is also a very powerful component for security analysts to collect malicious data for a long time. We need to let attackers intrude into a honeypot, so that we can analyze the malicious data we get, and find a method to prevent related attacks. Because it is important to prevent attackers to attack another computer through a honeypot, almost all of the honeypots block outgoing traffic. This may create a serious problem. Some assailants would test whether the computer which they attack is a honeypot by creating some simple external connections. If they know the computer they are attacking is a honeypot, they will not do further malicious behavior. If a honeypot cannot collect attack patterns anymore, it becomes useless. In this paper, we introduce a new design of honeypot, DEH (Dynamic Extensible Two-way Honeypot), to fix this serious problem with a bilateral communication mechanism. DEH based on the bilateral communication allows not only incoming traffic but outgoing traffic. If the outgoing traffic includes malicious shellcode, we can hold this traffic and copy the shellcode, and then DEH replace it with our own code to set up the bilateral communication and protective mechanism of the computer that the attacker wants to intrude into. After we set up the mechanism, we let the attacker intrude into a victim, but he is monitored by our protective mechanism. When attacker wants to send traffic out of the victim, DEH can extend the protective mechanism to other computers or redirected the connections back to the honeypot. Therefore, the mechanism can efficiently not only protect the honeypot from being detected but also prevent the attack from being spread, in the same time we could also get more information from attackers.\n",
      "https://ieeexplore.ieee.org/abstract/document/5541608/\n",
      "This article proposes and evaluates the deployment of an automated virtual honeypot. Given that an unskilled attacker uses predefined exploit code, honeypots can be built to identify hackers and prevent them from attacking the production network. Building the virtual honeypot relies on mechanisms from multiple fields such as virtualization, scripting, penetration testing and system administration. The proposed solution also introduces automated scripts for virtual machine management, attack mitigation and recovery of compromised resources once an attack is detected. The complete solution will pose as an appealing multi-platform vulnerable network, presenting certain chosen weak points that once exploited trigger self recovery and denial of future attacks from the discovered source.\n",
      "https://ieeexplore.ieee.org/abstract/document/6682752/\n",
      "The number of attacks on IT systems has increased extremely during the last few years. Among the multitude of attack vectors, particularly sophisticated attacks have increased dramatically, which now also increasingly affect small-and medium-sized companies. In comparison to other attacks, these attacks comprise some special features, e.g., the involvement of professional attackers as well as a high knowledge of the offender about the target itself (employees, installed systems, etc.). In order to use a honeypot for the analysis of these sophisticated attacks, it is necessary that a realistic system and user behavior is simulated in an automated way, so that even professional hackers can be deceived. As attacks often begin with a specially created spear phishing e-mail, honeypots must be able to process e-mails. Furthermore, the behavior of the honeypot (in particular, the simulated user respectively employee) is very important when trying to analyze the attack in depth. Following these ideas, we propose a new architecture for a honeypot capable of deluding even professional attackers with high knowledge about the target environment and therefore allowing a comprehensive analysis of the attacker.\n",
      "https://ieeexplore.ieee.org/abstract/document/7431486/\n"
     ]
    },
    {
     "name": "stdout",
     "output_type": "stream",
     "text": [
      "Security issues and challenges constitute, undoubtedly, one of the major risks of using cloud computing services. There are approaches that address security requirements, nevertheless there are no guarantees that security breaches are not going to occur in this complex infrastructure. Coordinated and sophisticated attacks pose a significant threat to cloud environments and vendors need to be prepared to prevent, detect, and recover from them. In this paper, the focus of the discussion is on how honeypots, a nontraditional security technology not adequately represented in the protection mechanisms pool, could be deployed in the cloud to allow the analysis of attack patterns. To be more specific, CloudHoneyCY is presented, an open-source framework that supports a collection of low-interaction and high-interaction honeypots deployed in the cloud infrastructure with the purpose of collecting and analyzing attack data that aids in constructing attack profiles.\n",
      "https://ieeexplore.ieee.org/abstract/document/7275017/\n",
      "A botnet is group of compromised computers that are controlled by a botmaster, who uses them to perform illegal activities. Centralized and P2P (Peer-to-Peer) botnets are the most commonly used botnet types. Honeypots have been used in many systems as computer defense. They are used to attract botmasters to add them in their botnets; to become spies in exposing botnet attacker behaviors. In recent research works, improved mechanisms for honeypot detection have been proposed. Such mechanisms would enable bot masters to distinguish honeypots from real bots, making it more difficult for honeypots to join botnets. This paper presents a new method that can be used by security defenders to overcome the authentication procedure used by the advanced two-stage reconnaissance worm (ATSRW). The presented method utilizes the peer list information sent by an infected host during the ATSRW authentication process and uses a combination of IP address spoofing and fake TCP three-way handshake. The paper provides an analytical study on the performance and the success probability of the presented method. We show that the presented method provide a higher chance for honeypots to join botnets despite security measures taken by botmasters.\n",
      "https://ieeexplore.ieee.org/abstract/document/6273260/\n",
      "Nowadays the security issues of Campus Network become more sharp and urgent, in order to improve the initiative of Campus Network security protection and the validity and pertinency of attacking information collection, this paper presents a new proactive security technology named honeypot to expand the network topology space and confuse the attacker, delay attacking and distract target, exhaust resources, tempt and trap hackers, and track, record and analyze hacker's actions comprehensively, and then get acquainted with the serious intrinsic internal and external threats with which the Campus Network is being confronted currently and the common attack tools, methods and rules, so as to amend the network security architecture according to specific situations, to revised security management principles of all levels, to adjust the firewall configuration to enhance the holistic security of Campus Network.\n",
      "https://ieeexplore.ieee.org/abstract/document/5563555/\n",
      "Among the diverse forms of malware, Botnet is the most widespread and serious threat which occurs commonly in today's cyber attacks. Botnets are collections of compromised computers which are remotely controlled by its originator (BotMaster) under a common Commond-and-Control (C&C) infrastructure. They provide a distributed platform for several illegal activities such as launching distributed denial of service (DDOS) attacks against critical targets, malware distribution, phishing, and click fraud. Most of the existing Botnet detection approaches concentrate only on particular Botnet command and control (C&C) protocols (e.g., IRC, HTTP) and structures (e.g., centralized), and can become ineffective as Botnets change their structure and C&C techniques. The detection of Botnet has been a major research topic in recent years. Different techniques and approaches have been proposed for detection and tracking of Botnet. This survey classifies Botnet detection techniques into two approaches. One approach is based on setting up honeynets and another approach is based on Intrusion Detection System( IDS) which has been categorized into signature-based and anomaly-based detection techniques.\n",
      "https://ieeexplore.ieee.org/abstract/document/7840716/\n",
      "Attack propagation models within honeypot systems aim at providing insights about attack strategies that target multiple honeypots, rather than analyzing attacks on each honeypot separately. Traditional attack propagation models focus on building a single probabilistic model. This modeling approach may be misleading, since it does not take into consideration contextual information such as the country from which the attack is initiated. In addition, with the massive increase in the magnitude of attacks on honeypots, a scalable modeling approach is required. In this work we present a novel attack propagation model that can utilize contextual information about the attacks by training multiple Markov Chain models. Moreover, we add additional layers of analysis: first, we present a likelihood estimation procedure that can identify new and evolving attack patterns; and second, we introduce a method for generating simulated attack sequences that can be used for training or sensitivity analysis. Lastly, we present, in details, a MapReduce design for all suggested algorithms in order to address scalability issues. We evaluate our methods on a massive dataset which includes approximately 170 million attacks on an operational honeypot system. Results indicate that contextual modeling is important for explaining attack propagation that may vary by country. In addition, we show the effectiveness of the suggested method for generating simulated sequences by comparing the attack propagation patterns we learned in the generated dataset and the original one. Finally, we demonstrate the scalability of all of the proposed algorithms on real and synthetic datasets that include over a billion records.\n",
      "https://ieeexplore.ieee.org/abstract/document/7508125/\n",
      "This paper discusses the usage of Deception as a strategy in network security and development of Java based honeypot that is named as “Maya”. For network deception, intruders are deliberately provided with hosts having one or more vulnerabilities. Honeypot is such a network deception tool that provides illusion to the attackers. Basic purpose of Honeypot is to get compromised in order to gather information about intruders and their attack methods. It could also be used to lure attacker and divert him from the actual network. “Maya” honeypot is Java based deception tool having emulated services (FTP etc), a Rule & Anomaly based intrusion detection engine and a web based administration cum monitoring tool.\n",
      "https://ieeexplore.ieee.org/abstract/document/8328967/\n",
      "Throughout much of the Cyber Grand Challenge (CGC) Final Event (CFE), one team deliberately included a honeypot in the form of a simple buffer overflow within most of their “patched” services. This vulnerability could not be reached while executing on the CGC infrastructure but was trivially reachable when executing on other platforms, for example, an instrumented instance of the CGC execution environment used by a competitor during the competition to analyze software for vulnerabilities. This ruse fooled some competitors into abandoning working proofs of vulnerabilities (PoVs) to instead attack the honeypot. However, logic within the patched service designed to control execution divergence toward or away from the honeypot appears to contain a flaw, which led to the service crashing. These crashes occurred many times, to the detriment of the availability score of the honeypot's author.\n",
      "https://ieeexplore.ieee.org/abstract/document/7892469/\n",
      "Securing communication is a comprehensive challenge due to the increasing of threats and attacks to network security. By knowing the various of threats and attacks, we can collect broad data from the network, by using honeypot. Implemented honeypot uses low-interaction type that is honeyd and other supporting software such as apache2 and bind9. Based on the research, honeypot is successfully giving responds to Distributed Denial of Service (DDoS) attacks and giving false information such as operation system and open ports which are usually sought by attackers. Log outcome given by honeypot is processed into chart and diagrams which are shown through the network interface by using honeyd-viz software so that the administrator will find it easy to analyze the form of the attacks from the attackers and it also can be used to increase the security of the server.\n",
      "https://ieeexplore.ieee.org/abstract/document/6974871/\n"
     ]
    },
    {
     "name": "stdout",
     "output_type": "stream",
     "text": [
      "Wireless sensor networks (WSN) are entering the daily life of many. Like wireless LAN before, these are a new playground for developers, but also offer new ways for misuse of this technology. For the improvement of security and to get more valuable data about new attacks, a honeypot for WSNs is in development. This paper presents an effectiveness analysis of a honeypot for WSN and shows detection capabilities in the categories of known and unknown attacks.\n",
      "https://ieeexplore.ieee.org/abstract/document/8249458/\n",
      "This paper proposes an implementation of honeypot that detects and reports telnet attacks on Internet-of-Things (IoT) devices. The honeypot operates with manual and Mirai-based attacks. A multi-component design is implemented in order to attain sufficient exposure to malicious traffic and security of collected data. Settings and additional files needed to run the honeypot are explained. Honeypot is tested using Mirai and results are discussed. After that, conclusion and directions for future work are given.\n",
      "https://ieeexplore.ieee.org/abstract/document/5484823/\n",
      "The goal of this research is to increase honeypot security through data analysis with Artificial Neural Network (ANN). Thus, first we present an approach to detection presence of computer malcode in the honeypot based on ANN while using the computer's behavioral measures. Then, we identify significant features, which describe the activity of a malcode within a honeypot, by acquiring these from security experts. We suggest employing fisher's score, one of the feature selection techniques, for the dimensionality reduction and identification of the most prominent features to capture efficiently the computer behavior in content of malcode activity. Later on, we preprocess the dataset according to this technique and train the ANN model with preprocessed data. Finally, we evaluate the ability of the model to detect the presence of a malcode in the honeypot when honeypot is at risk.\n",
      "https://ieeexplore.ieee.org/abstract/document/5657900/\n",
      "In order to effectively detect the scan attack on high-speed links, this paper improves the commonly used scan detection algorithm TRW (Threshold Random Walk) based on honeypot, and makes a detailed analysis on its performance. The analysis shows that the improved algorithm has better performance on the speed of identifying the scan source and can finish the real-time detection of high-speed link scan. Meanwhile, on the basis of selective system sample, this paper focuses on the analysis of the anomaly detection accuracy of three scan detection algorithms: Snort, TRW, TRWHP (Threshold Random Walk Based on Honeypot). The experimental results show that, at the same sampling ratio, the false positive rates of TRWHP and TRW algorithm are almost the same, however, the false negative rate of TRWHP algorithm can make a remarkable improvement and obtain the better detection performance.\n"
     ]
    }
   ],
   "source": [
    "for link in df[df['link'].str.contains(\"ieeexplore.ieee.org\")]['link']:\n",
    "    print(link)\n",
    "    #################################################################################\n",
    "    scraper = cfscrape.create_scraper()\n",
    "    scraped_html=scraper.get(link,headers=header).content\n",
    "    # print(scraped_html.decode(\"utf-8\") )\n",
    "    html = etree.HTML(scraped_html)\n",
    "    #################################################################################    \n",
    "    elements = html.xpath(\"//script[@type='text/javascript']/text()\")\n",
    "    abstract = elements[2].split('\"abstract\":\"')[2].split('\",\"')[0]\n",
    "    print(abstract)\n",
    "    "
   ]
  },
  {
   "cell_type": "code",
   "execution_count": 41,
   "metadata": {},
   "outputs": [],
   "source": [
    "df[df['link'].str.contains(\"link.springer.com\")].to_csv(\"flowspec_springer.csv\")"
   ]
  },
  {
   "cell_type": "code",
   "execution_count": 42,
   "metadata": {},
   "outputs": [],
   "source": [
    "df[df['link'].str.contains(\"pdfs.semanticscholar.org\")].to_csv(\"flowspec_semanticscholar.csv\")"
   ]
  },
  {
   "cell_type": "code",
   "execution_count": 45,
   "metadata": {},
   "outputs": [],
   "source": [
    "df[df['link'].str.contains(\"dl.acm.org\")].to_csv(\"flowspec_acm.csv\")"
   ]
  },
  {
   "cell_type": "markdown",
   "metadata": {},
   "source": [
    "## Lessons learned:\n",
    "- remove papers that have in the title or description/abstract the list of words: [rsvp, qos, quality of service, mpls, intserv, diffserv, multicast]"
   ]
  }
 ],
 "metadata": {
  "kernelspec": {
   "display_name": "Python 3",
   "language": "python",
   "name": "python3"
  },
  "language_info": {
   "codemirror_mode": {
    "name": "ipython",
    "version": 3
   },
   "file_extension": ".py",
   "mimetype": "text/x-python",
   "name": "python",
   "nbconvert_exporter": "python",
   "pygments_lexer": "ipython3",
   "version": "3.7.0"
  }
 },
 "nbformat": 4,
 "nbformat_minor": 2
}
