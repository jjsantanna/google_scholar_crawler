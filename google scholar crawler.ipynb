{
 "cells": [
  {
   "cell_type": "markdown",
   "metadata": {},
   "source": [
    "## Google Scholar Crawler\n",
    "*DISCLAIMER: after retrieving 490 URLs, Google BLOCKED the IP address\n",
    "\n",
    "*TODO: add selenium and add a manual step for opening a url and showing that we are NOT a robot"
   ]
  },
  {
   "cell_type": "code",
   "execution_count": 122,
   "metadata": {},
   "outputs": [],
   "source": [
    "keyword_raw = \"ebpf ddos xdp\"\n"
   ]
  },
  {
   "cell_type": "code",
   "execution_count": 127,
   "metadata": {
    "scrolled": false
   },
   "outputs": [],
   "source": [
    "import cfscrape\n",
    "from lxml import etree\n",
    "import pandas as pd\n",
    "import urllib\n",
    "import re\n",
    "from random import choice, randint\n",
    "from time import sleep\n",
    "from selenium import webdriver\n",
    "from selenium.webdriver.common.keys import Keys\n",
    "from __future__ import print_function\n",
    "from IPython.display import display\n",
    "from ipywidgets import interact,Checkbox, Button\n",
    "\n",
    "\n",
    "#15 most common user-agents from: https://techblog.willshouse.com/2012/01/03/most-common-user-agents/\n",
    "user_agents = [\n",
    "'Mozilla/5.0 (Windows NT 10.0; Win64; x64) AppleWebKit/537.36 (KHTML, like Gecko) Chrome/73.0.3683.103 Safari/537.36',\n",
    "'Mozilla/5.0 (Windows NT 10.0; Win64; x64; rv:66.0) Gecko/20100101 Firefox/66.0',\n",
    "'Mozilla/5.0 (Windows NT 10.0; Win64; x64) AppleWebKit/537.36 (KHTML, like Gecko) Chrome/74.0.3729.131 Safari/537.36',\n",
    "'Mozilla/5.0 (Macintosh; Intel Mac OS X 10_14_4) AppleWebKit/537.36 (KHTML, like Gecko) Chrome/73.0.3683.103 Safari/537.36',\n",
    "'Mozilla/5.0 (Macintosh; Intel Mac OS X 10_14_4) AppleWebKit/605.1.15 (KHTML, like Gecko) Version/12.1 Safari/605.1.15',\n",
    "'Mozilla/5.0 (Windows NT 6.2; WOW64) AppleWebKit/537.36 (KHTML, like Gecko) Chrome/68.0.3440.106 Safari/537.36',\n",
    "'Mozilla/5.0 (Windows NT 6.1; Win64; x64) AppleWebKit/537.36 (KHTML, like Gecko) Chrome/73.0.3683.103 Safari/537.36',\n",
    "'Mozilla/5.0 (X11; Ubuntu; Linux x86_64; rv:66.0) Gecko/20100101 Firefox/66.0',\n",
    "'Mozilla/5.0 (Windows NT 6.1; Win64; x64; rv:66.0) Gecko/20100101 Firefox/66.0',\n",
    "'Mozilla/5.0 (Windows NT 10.0; Win64; x64) AppleWebKit/537.36 (KHTML, like Gecko) Chrome/74.0.3729.108 Safari/537.36',\n",
    "'Mozilla/5.0 (Macintosh; Intel Mac OS X 10_13_6) AppleWebKit/537.36 (KHTML, like Gecko) Chrome/73.0.3683.103 Safari/537.36',\n",
    "'Mozilla/5.0 (Macintosh; Intel Mac OS X 10.14; rv:66.0) Gecko/20100101 Firefox/66.0',\n",
    "'Mozilla/5.0 (Windows NT 6.1; rv:60.0) Gecko/20100101 Firefox/60.0',\n",
    "'Mozilla/5.0 (Macintosh; Intel Mac OS X 10_14_4) AppleWebKit/537.36 (KHTML, like Gecko) Chrome/74.0.3729.131 Safari/537.36',\n",
    "'Mozilla/5.0 (Windows NT 10.0; Win64; x64) AppleWebKit/537.36 (KHTML, like Gecko) Chrome/73.0.3683.86 Safari/537.36',\n",
    "]"
   ]
  },
  {
   "cell_type": "code",
   "execution_count": 128,
   "metadata": {
    "scrolled": true
   },
   "outputs": [
    {
     "name": "stdout",
     "output_type": "stream",
     "text": [
      "Current userAgent: Mozilla/5.0 (Windows NT 6.1; Win64; x64; rv:66.0) Gecko/20100101 Firefox/66.0\n"
     ]
    }
   ],
   "source": [
    "#download drivers: https://www.seleniumhq.org/download/\n",
    "\n",
    "\n",
    "profile = webdriver.FirefoxProfile()\n",
    "profile.set_preference(\"general.useragent.override\", choice(user_agents))\n",
    "\n",
    "firefoxDriver = webdriver.Firefox(profile)\n",
    "#chromeDriver = webdriver.Chrome()\n",
    "\n",
    "print('Current userAgent:', firefoxDriver.execute_script(\"return navigator.userAgent\"))"
   ]
  },
  {
   "cell_type": "code",
   "execution_count": 129,
   "metadata": {},
   "outputs": [],
   "source": [
    "#function to change User-Agent on Firefox driver\n",
    "def change_user_agent(driver):\n",
    "    driver.get(\"about:config\")\n",
    "    useragent = choice(user_agents)\n",
    "    jscript = \"\"\"navigator.__defineGetter__('userAgent', function () {return \"%s\"});\"\"\" %useragent\n",
    "    driver.execute_script(jscript)\n",
    "\n",
    "    print('Current userAgent:', driver.execute_script(\"return navigator.userAgent\"))"
   ]
  },
  {
   "cell_type": "code",
   "execution_count": 130,
   "metadata": {},
   "outputs": [
    {
     "name": "stdout",
     "output_type": "stream",
     "text": [
      "1 https://scholar.google.nl/scholar?start=0&q=ebpf+ddos+xdp&hl=nl&as_sdt=0,5\n",
      "sleeping...\n",
      "2 https://scholar.google.nl/scholar?start=10&q=ebpf+ddos+xdp&hl=nl&as_sdt=0,5\n",
      "sleeping...\n",
      "3 https://scholar.google.nl/scholar?start=20&q=ebpf+ddos+xdp&hl=nl&as_sdt=0,5\n",
      "sleeping...\n",
      "4 https://scholar.google.nl/scholar?start=30&q=ebpf+ddos+xdp&hl=nl&as_sdt=0,5\n",
      "The code stopped for some reason!! Possibly Google blocked us!\n",
      "\"\"\n",
      "(Empty -> Continue),  ('new' -> new User-Agent and Continue), (Any other character -> Breaknew\n",
      "Current userAgent: Mozilla/5.0 (Windows NT 10.0; Win64; x64) AppleWebKit/537.36 (KHTML, like Gecko) Chrome/73.0.3683.103 Safari/537.36\n",
      "4 https://scholar.google.nl/scholar?start=30&q=ebpf+ddos+xdp&hl=nl&as_sdt=0,5\n",
      "The code stopped for some reason!! Possibly Google blocked us!\n",
      "\"\"\n",
      "(Empty -> Continue),  ('new' -> new User-Agent and Continue), (Any other character -> Breakasd\n"
     ]
    }
   ],
   "source": [
    "page = 1 \n",
    "df = pd.DataFrame()\n",
    "    \n",
    "while True: \n",
    "    start_page = (page - 1) * 10\n",
    "    #################################################################################\n",
    "    keyword = urllib.parse.quote_plus(keyword_raw)\n",
    "    url=\"https://scholar.google.nl/scholar?start=\"+str(start_page)+\"&q=\"+keyword+\"&hl=nl&as_sdt=0,5\"\n",
    "    print(page, url)\n",
    "    #################################################################################    \n",
    "    \n",
    "    firefoxDriver.get(url)\n",
    "    scraped_html = firefoxDriver.page_source\n",
    "    \n",
    "    # print(scraped_html.decode(\"utf-8\") )\n",
    "    html = etree.HTML(scraped_html)\n",
    "    #################################################################################    \n",
    "    elements = html.xpath(\"//div[@class='gs_ri']\")\n",
    "    #################################################################################\n",
    "    if len(elements) == 0:\n",
    "        print(\"The code stopped for some reason!! Possibly Google blocked us!\")\n",
    "        print(\"\\\"\"+(''.join(html.xpath(\"//div[@id='infoDiv']/text()\")))+\"\\\"\")\n",
    "        inp = input(\"(Empty -> Continue),  ('new' -> new User-Agent and Continue), (Any other character -> Break\")\n",
    "        if not inp:\n",
    "            continue\n",
    "        elif inp == 'new':\n",
    "            change_user_agent(firefoxDriver)\n",
    "            continue\n",
    "        else:\n",
    "            break\n",
    "    #################################################################################\n",
    "    for element in elements:\n",
    "        #################################################################################\n",
    "        if len(element.xpath(\"h3[@class='gs_rt']/a/text()\")) > 1:\n",
    "            title = (keyword_raw+\" \").join(element.xpath(\"h3[@class='gs_rt']/a/text()\"))\n",
    "        elif len(element.xpath(\"h3[@class='gs_rt']/a/text()\")) == 1:\n",
    "            title = element.xpath(\"h3[@class='gs_rt']/a/text()\")[0]\n",
    "        else:\n",
    "            title = \"\"\n",
    "        #################################################################################    \n",
    "        link  = ''.join(element.xpath(\"h3[@class='gs_rt']/a/@href\"))\n",
    "        #################################################################################    \n",
    "        abstract = ''.join(element.xpath(\"div[@class='gs_rs']/text()\")).replace('\\n','')\n",
    "        #################################################################################\n",
    "        reference = ''.join(element.xpath(\"div[@class='gs_a']/text()\"))\n",
    "        #################################################################################\n",
    "        try:\n",
    "            year = re.search(r\"\\d{4}\", reference)[0]\n",
    "        except:\n",
    "            year = \"\"\n",
    "        #################################################################################   \n",
    "        df = df.append({'year':year,'title':title,'abstract':abstract,'reference':reference,'link':link},ignore_index=True)\n",
    "    #################################################################################   \n",
    "    print(\"sleeping...\")\n",
    "    sleep(randint(6,18))\n",
    "    #################################################################################   \n",
    "    page = page + 1\n",
    "\n",
    "firefoxDriver.quit()"
   ]
  },
  {
   "cell_type": "markdown",
   "metadata": {},
   "source": [
    "## Exporting the output to a csv file"
   ]
  },
  {
   "cell_type": "code",
   "execution_count": 132,
   "metadata": {},
   "outputs": [],
   "source": [
    "filename = urllib.parse.quote_plus(keyword_raw)+'_papers_crawler_google_scholar.csv'\n",
    "\n",
    "df.to_csv(filename)"
   ]
  },
  {
   "cell_type": "markdown",
   "metadata": {},
   "source": [
    "## Further analysis"
   ]
  },
  {
   "cell_type": "code",
   "execution_count": 133,
   "metadata": {},
   "outputs": [],
   "source": [
    "pd.options.display.max_colwidth = 100\n",
    "from urllib.parse import urlparse"
   ]
  },
  {
   "cell_type": "code",
   "execution_count": 138,
   "metadata": {},
   "outputs": [],
   "source": [
    "#Reading again the file in case it is a offline analysis\n",
    "df = pd.read_csv(filename,index_col=0).dropna()"
   ]
  },
  {
   "cell_type": "code",
   "execution_count": 139,
   "metadata": {},
   "outputs": [
    {
     "data": {
      "text/plain": [
       "17"
      ]
     },
     "execution_count": 139,
     "metadata": {},
     "output_type": "execute_result"
    }
   ],
   "source": [
    "len(df)"
   ]
  },
  {
   "cell_type": "code",
   "execution_count": 140,
   "metadata": {},
   "outputs": [
    {
     "name": "stdout",
     "output_type": "stream",
     "text": [
      "TOTAL ENTRIES: 17\n"
     ]
    }
   ],
   "source": [
    "print(\"TOTAL ENTRIES:\",len(df))"
   ]
  },
  {
   "cell_type": "code",
   "execution_count": 141,
   "metadata": {
    "scrolled": false
   },
   "outputs": [
    {
     "name": "stdout",
     "output_type": "stream",
     "text": [
      "Distinct Source of Information: 11\n",
      "\n",
      "Frequency of Source of Information:\n",
      "dl.acm.org                   3\n",
      "diva-portal.org              2\n",
      "linuxplumbersconf.org        2\n",
      "ieeexplore.ieee.org          2\n",
      "arxiv.org                    2\n",
      "minlanyu.seas.harvard.edu    1\n",
      "researchgate.net             1\n",
      "duo.uio.no                   1\n",
      "brendangregg.com             1\n",
      "netdevconf.org               1\n",
      "sciencedirect.com            1\n",
      "Name: link, dtype: int64\n"
     ]
    }
   ],
   "source": [
    "source_distribution = df['link'].dropna().apply(lambda x: urlparse(x)[1].replace(\"www.\",\"\")).value_counts()\n",
    "print(\"Distinct Source of Information:\",len(source_distribution))\n",
    "print()\n",
    "print(\"Frequency of Source of Information:\")\n",
    "print(source_distribution.head(30))"
   ]
  },
  {
   "cell_type": "markdown",
   "metadata": {},
   "source": [
    "The most important source of information are: \n",
    "- ieeexplore.ieee.org\n",
    "- dl.acm.org\n",
    "- link.springer.com\n",
    "- pdfs.semanticscholar.org\n",
    "- sciencedirect.com\n",
    "- researchgate.net\n",
    "\n",
    "Of course the RFCs of IETF are also very important:\n",
    "- rfc-editor.org \n",
    "- tools.ietf.org\n",
    "- datatracker.ietf.org"
   ]
  },
  {
   "cell_type": "markdown",
   "metadata": {},
   "source": [
    "## Exporting information to csv files based on the source of information"
   ]
  },
  {
   "cell_type": "code",
   "execution_count": 40,
   "metadata": {},
   "outputs": [],
   "source": [
    "df[df['link'].str.contains(\"ieeexplore.ieee.org\")].to_csv(\"flowspec_ieee.csv\")"
   ]
  },
  {
   "cell_type": "code",
   "execution_count": 41,
   "metadata": {},
   "outputs": [],
   "source": [
    "df[df['link'].str.contains(\"link.springer.com\")].to_csv(\"flowspec_springer.csv\")"
   ]
  },
  {
   "cell_type": "code",
   "execution_count": 42,
   "metadata": {},
   "outputs": [],
   "source": [
    "df[df['link'].str.contains(\"pdfs.semanticscholar.org\")].to_csv(\"flowspec_semanticscholar.csv\")"
   ]
  },
  {
   "cell_type": "code",
   "execution_count": 45,
   "metadata": {},
   "outputs": [],
   "source": [
    "df[df['link'].str.contains(\"dl.acm.org\")].to_csv(\"flowspec_acm.csv\")"
   ]
  },
  {
   "cell_type": "markdown",
   "metadata": {},
   "source": [
    "## Lessons learned:\n",
    "- remove papers that have in the title or description/abstract the list of words: [rsvp, qos, quality of service, mpls, intserv, diffserv, multicast]"
   ]
  }
 ],
 "metadata": {
  "kernelspec": {
   "display_name": "Python 3",
   "language": "python",
   "name": "python3"
  },
  "language_info": {
   "codemirror_mode": {
    "name": "ipython",
    "version": 3
   },
   "file_extension": ".py",
   "mimetype": "text/x-python",
   "name": "python",
   "nbconvert_exporter": "python",
   "pygments_lexer": "ipython3",
   "version": "3.6.7"
  }
 },
 "nbformat": 4,
 "nbformat_minor": 2
}
